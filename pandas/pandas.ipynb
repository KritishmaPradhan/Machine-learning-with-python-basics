{
 "cells": [
  {
   "cell_type": "markdown",
   "metadata": {},
   "source": [
    "# Pandas Learnings Notebook\n",
    "\n",
    "This notebook covers key concepts and operations in the Pandas library for data analysis in Python. We will explore DataFrame creation, indexing, concatenation, data cleaning, manipulation, and more."
   ]
  },
  {
   "cell_type": "markdown",
   "metadata": {},
   "source": [
    "## 1. DataFrame Creation\n",
    "\n",
    "Pandas DataFrames can be created from various data structures, such as lists of dictionaries or dictionaries of lists. This provides flexibility when you're gathering data from different sources."
   ]
  },
  {
   "cell_type": "code",
   "execution_count": 1,
   "id": "05e9d593",
   "metadata": {},
   "outputs": [],
   "source": [
    "import pandas as pd\n",
    "import numpy as np\n"
   ]
  },
  {
   "cell_type": "code",
   "execution_count": null,
   "metadata": {},
   "outputs": [
    {
     "name": "stdout",
     "output_type": "stream",
     "text": [
      "DataFrame from list of dictionaries:\n"
     ]
    },
    {
     "data": {
      "text/html": [
       "<div>\n",
       "<style scoped>\n",
       "    .dataframe tbody tr th:only-of-type {\n",
       "        vertical-align: middle;\n",
       "    }\n",
       "\n",
       "    .dataframe tbody tr th {\n",
       "        vertical-align: top;\n",
       "    }\n",
       "\n",
       "    .dataframe thead th {\n",
       "        text-align: right;\n",
       "    }\n",
       "</style>\n",
       "<table border=\"1\" class=\"dataframe\">\n",
       "  <thead>\n",
       "    <tr style=\"text-align: right;\">\n",
       "      <th></th>\n",
       "      <th>name</th>\n",
       "      <th>age</th>\n",
       "      <th>city</th>\n",
       "      <th>occupation</th>\n",
       "    </tr>\n",
       "  </thead>\n",
       "  <tbody>\n",
       "    <tr>\n",
       "      <th>0</th>\n",
       "      <td>Alice</td>\n",
       "      <td>30</td>\n",
       "      <td>New York</td>\n",
       "      <td>Engineer</td>\n",
       "    </tr>\n",
       "    <tr>\n",
       "      <th>1</th>\n",
       "      <td>Bob</td>\n",
       "      <td>24</td>\n",
       "      <td>Los Angeles</td>\n",
       "      <td>Artist</td>\n",
       "    </tr>\n",
       "    <tr>\n",
       "      <th>2</th>\n",
       "      <td>Charlie</td>\n",
       "      <td>35</td>\n",
       "      <td>Chicago</td>\n",
       "      <td>Teacher</td>\n",
       "    </tr>\n",
       "    <tr>\n",
       "      <th>3</th>\n",
       "      <td>Diana</td>\n",
       "      <td>28</td>\n",
       "      <td>New York</td>\n",
       "      <td>Engineer</td>\n",
       "    </tr>\n",
       "  </tbody>\n",
       "</table>\n",
       "</div>"
      ],
      "text/plain": [
       "      name  age         city occupation\n",
       "0    Alice   30     New York   Engineer\n",
       "1      Bob   24  Los Angeles     Artist\n",
       "2  Charlie   35      Chicago    Teacher\n",
       "3    Diana   28     New York   Engineer"
      ]
     },
     "execution_count": 9,
     "metadata": {},
     "output_type": "execute_result"
    }
   ],
   "source": [
    "\n",
    "# --- Creation from a list of dictionaries ---\n",
    "# Each dictionary in the list represents a row in the DataFrame.\n",
    "list_of_dicts_data = [\n",
    "    {'name': 'Alice', 'age': 30, 'city': 'New York', 'occupation': 'Engineer'},\n",
    "    {'name': 'Bob', 'age': 24, 'city': 'Los Angeles', 'occupation': 'Artist'},\n",
    "    {'name': 'Charlie', 'age': 35, 'city': 'Chicago', 'occupation': 'Teacher'},\n",
    "    {'name': 'Diana', 'age': 28, 'city': 'New York', 'occupation': 'Engineer'}\n",
    "]\n",
    "df_from_list_of_dicts = pd.DataFrame(list_of_dicts_data)\n",
    "print(\"DataFrame from list of dictionaries:\")\n",
    "# print(df_from_list_of_dicts)\n",
    "# print(\"\\n\" + \"-\"*50 + \"\\n\")\n",
    "df_from_list_of_dicts"
   ]
  },
  {
   "cell_type": "code",
   "execution_count": null,
   "id": "062ce1fd",
   "metadata": {},
   "outputs": [],
   "source": [
    "# --- Creation from a dictionary of lists ---\n",
    "# Each key-value pair in the dictionary represents a column and its data.\n",
    "dict_of_lists_data = {\n",
    "    'name': ['Alice', 'Bob', 'Charlie', 'Diana'],\n",
    "    'age': [30, 24, 35, 28],\n",
    "    'city': [\"New York\", \"Los Angeles\", \"Chicago\", \"New York\"],\n",
    "    'Occupation': ['Engineer','Artist','Teacher','Engineer']\n",
    "}\n",
    "df_from_dict_of_lists = pd.DataFrame(dict_of_lists_data)\n",
    "print(\"DataFrame from dictionary of lists:\")\n",
    "print(df_from_dict_of_lists)"
   ]
  },
  {
   "attachments": {
    "image.png": {
     "image/png": "[encoded data removed]"
    }
   },
   "cell_type": "markdown",
   "id": "7cf58b49",
   "metadata": {},
   "source": [
    "![image.png](attachment:image.png)"
   ]
  },
  {
   "cell_type": "markdown",
   "metadata": {},
   "source": [
    "### ✏️ Try it Yourself! - Section 1\n",
    "\n",
    "1.  Create a DataFrame named `student_grades` from the following list of dictionaries:\n",
    "    \n",
    "![Image](assets/pd_001.png)\n",
    "\n",
    "\n",
    "2.  Similarly create a `student_grades` dataframe with the  dictionary of lists:\n",
    "3.  Print both DataFrames."
   ]
  },
  {
   "cell_type": "markdown",
   "metadata": {},
   "source": [
    "## 2. Indexing with `loc` and `iloc`\n",
    "\n",
    "`loc` is used for label-based indexing (uses row and column names).\n",
    "`iloc` is used for integer position-based indexing (uses numerical indices, like Python list slicing).\n",
    "\n",
    "`teach students when to use the . to get the columns and at what case it fails `"
   ]
  },
  {
   "cell_type": "code",
   "execution_count": null,
   "metadata": {},
   "outputs": [],
   "source": [
    "# --- Using loc (label-based) ---\n",
    "print(\"Using loc to select row with index 1:\")\n",
    "print(df_from_list_of_dicts.loc[1]) # Selects the second row (index label is 1)\n",
    "print(\"\\n\")\n"
   ]
  },
  {
   "cell_type": "code",
   "execution_count": null,
   "id": "72eba97f",
   "metadata": {},
   "outputs": [],
   "source": [
    "print(\"Using loc to select rows with index 0 and 2, and columns 'name' and 'city':\")\n",
    "print(df_from_list_of_dicts.loc[[0, 2], ['name', 'city']])\n",
    "print(\"\\n\")"
   ]
  },
  {
   "cell_type": "code",
   "execution_count": null,
   "id": "71e21dfb",
   "metadata": {},
   "outputs": [],
   "source": [
    "print(\"Using loc to select all rows for the 'age' column:\")\n",
    "print(df_from_list_of_dicts.loc[:, 'age'])\n",
    "print(\"\\n\" + \"-\"*50 + \"\\n\")"
   ]
  },
  {
   "cell_type": "code",
   "execution_count": null,
   "id": "ad5e4e02",
   "metadata": {},
   "outputs": [],
   "source": [
    "\n",
    "# --- Using iloc (integer position-based) ---\n",
    "print(\"Using iloc to select the first row (position 0):\")\n",
    "print(df_from_list_of_dicts.iloc[0])"
   ]
  },
  {
   "cell_type": "code",
   "execution_count": null,
   "id": "8dd4de03",
   "metadata": {},
   "outputs": [],
   "source": [
    "\n",
    "print(\"Using iloc to select rows at position 0 and 2, and columns at position 0 (name) and 2 (city):\")\n",
    "print(df_from_list_of_dicts.iloc[[0, 2], [0, 2]])"
   ]
  },
  {
   "cell_type": "code",
   "execution_count": null,
   "id": "eeb8b697",
   "metadata": {},
   "outputs": [],
   "source": [
    "print(\"Using iloc to select the last two rows and the first two columns:\")\n",
    "print(df_from_list_of_dicts.iloc[-2:, :2])"
   ]
  },
  {
   "cell_type": "markdown",
   "metadata": {},
   "source": [
    "### ✏️ Try it Yourself! - Section 2\n",
    "\n",
    "Using `df_from_list_of_dicts`:\n",
    "1.  Use `loc` to select the 'name' and 'occupation' for 'Bob' (row with index 1).\n",
    "2.  Use `iloc` to select the data in the last row and the last two columns.\n",
    "3.  Use `loc` to select all data for rows where the index is 0 or 3.\n",
    "4.  Use `iloc` to select the first column ('name') for all rows."
   ]
  },
  {
   "cell_type": "code",
   "execution_count": null,
   "id": "cd9168f6",
   "metadata": {},
   "outputs": [],
   "source": []
  },
  {
   "cell_type": "markdown",
   "metadata": {},
   "source": [
    "## 3. Concatenation of DataFrames\n",
    "\n",
    "The `pd.concat()` function allows you to combine multiple DataFrames either row-wise (stacking them vertically) or column-wise (joining them horizontally)."
   ]
  },
  {
   "cell_type": "code",
   "execution_count": null,
   "metadata": {},
   "outputs": [],
   "source": [
    "df1_concat = pd.DataFrame({'A': ['A0', 'A1'], 'B': ['B0', 'B1'], 'key': ['K0', 'K1']})\n",
    "df2_concat = pd.DataFrame({'A': ['A2', 'A3'], 'B': ['B2', 'B3'], 'key': ['K0', 'K2']})\n",
    "df3_concat = pd.DataFrame({'C': ['C0', 'C1'], 'D': ['D0', 'D1']}, index=[0,1]) # Matching index for column concat\n"
   ]
  },
  {
   "cell_type": "code",
   "execution_count": 93,
   "id": "cf75168b",
   "metadata": {},
   "outputs": [
    {
     "data": {
      "text/html": [
       "<div>\n",
       "<style scoped>\n",
       "    .dataframe tbody tr th:only-of-type {\n",
       "        vertical-align: middle;\n",
       "    }\n",
       "\n",
       "    .dataframe tbody tr th {\n",
       "        vertical-align: top;\n",
       "    }\n",
       "\n",
       "    .dataframe thead th {\n",
       "        text-align: right;\n",
       "    }\n",
       "</style>\n",
       "<table border=\"1\" class=\"dataframe\">\n",
       "  <thead>\n",
       "    <tr style=\"text-align: right;\">\n",
       "      <th></th>\n",
       "      <th>A</th>\n",
       "      <th>B</th>\n",
       "      <th>key</th>\n",
       "    </tr>\n",
       "  </thead>\n",
       "  <tbody>\n",
       "    <tr>\n",
       "      <th>0</th>\n",
       "      <td>A0</td>\n",
       "      <td>B0</td>\n",
       "      <td>K0</td>\n",
       "    </tr>\n",
       "    <tr>\n",
       "      <th>1</th>\n",
       "      <td>A1</td>\n",
       "      <td>B1</td>\n",
       "      <td>K1</td>\n",
       "    </tr>\n",
       "  </tbody>\n",
       "</table>\n",
       "</div>"
      ],
      "text/plain": [
       "    A   B key\n",
       "0  A0  B0  K0\n",
       "1  A1  B1  K1"
      ]
     },
     "execution_count": 93,
     "metadata": {},
     "output_type": "execute_result"
    }
   ],
   "source": [
    "df1_concat"
   ]
  },
  {
   "cell_type": "code",
   "execution_count": 94,
   "id": "fc5c61ce",
   "metadata": {},
   "outputs": [
    {
     "data": {
      "text/html": [
       "<div>\n",
       "<style scoped>\n",
       "    .dataframe tbody tr th:only-of-type {\n",
       "        vertical-align: middle;\n",
       "    }\n",
       "\n",
       "    .dataframe tbody tr th {\n",
       "        vertical-align: top;\n",
       "    }\n",
       "\n",
       "    .dataframe thead th {\n",
       "        text-align: right;\n",
       "    }\n",
       "</style>\n",
       "<table border=\"1\" class=\"dataframe\">\n",
       "  <thead>\n",
       "    <tr style=\"text-align: right;\">\n",
       "      <th></th>\n",
       "      <th>A</th>\n",
       "      <th>B</th>\n",
       "      <th>key</th>\n",
       "    </tr>\n",
       "  </thead>\n",
       "  <tbody>\n",
       "    <tr>\n",
       "      <th>0</th>\n",
       "      <td>A2</td>\n",
       "      <td>B2</td>\n",
       "      <td>K0</td>\n",
       "    </tr>\n",
       "    <tr>\n",
       "      <th>1</th>\n",
       "      <td>A3</td>\n",
       "      <td>B3</td>\n",
       "      <td>K2</td>\n",
       "    </tr>\n",
       "  </tbody>\n",
       "</table>\n",
       "</div>"
      ],
      "text/plain": [
       "    A   B key\n",
       "0  A2  B2  K0\n",
       "1  A3  B3  K2"
      ]
     },
     "execution_count": 94,
     "metadata": {},
     "output_type": "execute_result"
    }
   ],
   "source": [
    "df2_concat"
   ]
  },
  {
   "cell_type": "code",
   "execution_count": 92,
   "id": "3f49f4e7",
   "metadata": {},
   "outputs": [
    {
     "name": "stdout",
     "output_type": "stream",
     "text": [
      "Concatenated along rows (ignore_index=True):\n"
     ]
    },
    {
     "data": {
      "text/html": [
       "<div>\n",
       "<style scoped>\n",
       "    .dataframe tbody tr th:only-of-type {\n",
       "        vertical-align: middle;\n",
       "    }\n",
       "\n",
       "    .dataframe tbody tr th {\n",
       "        vertical-align: top;\n",
       "    }\n",
       "\n",
       "    .dataframe thead th {\n",
       "        text-align: right;\n",
       "    }\n",
       "</style>\n",
       "<table border=\"1\" class=\"dataframe\">\n",
       "  <thead>\n",
       "    <tr style=\"text-align: right;\">\n",
       "      <th></th>\n",
       "      <th>A</th>\n",
       "      <th>B</th>\n",
       "      <th>key</th>\n",
       "    </tr>\n",
       "  </thead>\n",
       "  <tbody>\n",
       "    <tr>\n",
       "      <th>0</th>\n",
       "      <td>A0</td>\n",
       "      <td>B0</td>\n",
       "      <td>K0</td>\n",
       "    </tr>\n",
       "    <tr>\n",
       "      <th>1</th>\n",
       "      <td>A1</td>\n",
       "      <td>B1</td>\n",
       "      <td>K1</td>\n",
       "    </tr>\n",
       "    <tr>\n",
       "      <th>2</th>\n",
       "      <td>A2</td>\n",
       "      <td>B2</td>\n",
       "      <td>K0</td>\n",
       "    </tr>\n",
       "    <tr>\n",
       "      <th>3</th>\n",
       "      <td>A3</td>\n",
       "      <td>B3</td>\n",
       "      <td>K2</td>\n",
       "    </tr>\n",
       "  </tbody>\n",
       "</table>\n",
       "</div>"
      ],
      "text/plain": [
       "    A   B key\n",
       "0  A0  B0  K0\n",
       "1  A1  B1  K1\n",
       "2  A2  B2  K0\n",
       "3  A3  B3  K2"
      ]
     },
     "execution_count": 92,
     "metadata": {},
     "output_type": "execute_result"
    }
   ],
   "source": [
    "# Concatenating along rows (axis=0 is default)\n",
    "# This stacks df2_concat below df1_concat.\n",
    "# ignore_index=True creates a new continuous index for the resulting DataFrame.\n",
    "concatenated_rows = pd.concat([df1_concat, df2_concat], ignore_index=True)\n",
    "print(\"Concatenated along rows (ignore_index=True):\")\n",
    "concatenated_rows\n"
   ]
  },
  {
   "cell_type": "code",
   "execution_count": null,
   "id": "3695ad1a",
   "metadata": {},
   "outputs": [],
   "source": [
    "\n",
    "# Concatenating along rows, preserving original indices\n",
    "concatenated_rows_keep_index = pd.concat([df1_concat, df2_concat])\n",
    "print(\"Concatenated along rows (keeping original indices):\")\n",
    "print(concatenated_rows_keep_index)\n",
    "print(\"Accessing K0 from df1: \", concatenated_rows_keep_index.loc[0,'A'])\n",
    "print(\"\\n\" + \"-\"*50 + \"\\n\")"
   ]
  },
  {
   "cell_type": "code",
   "execution_count": null,
   "id": "ef0f8cb7",
   "metadata": {},
   "outputs": [],
   "source": [
    "\n",
    "# Concatenating along columns (axis=1)\n",
    "# This places df3_concat next to df1_concat.\n",
    "# For this to make sense, DataFrames should ideally have the same index or be aligned meaningfully.\n",
    "concatenated_cols = pd.concat([df1_concat, df3_concat], axis=1)\n",
    "print(\"Concatenated along columns (axis=1):\")\n",
    "print(concatenated_cols)"
   ]
  },
  {
   "cell_type": "markdown",
   "metadata": {},
   "source": [
    "### ✏️ Try it Yourself! - Section 3\n",
    "\n",
    "1.  Create two new DataFrames:\n",
    "    ```python\n",
    "    df_sales_q1 = pd.DataFrame({'product': ['WidgetA', 'WidgetB'], 'sales_q1': [100, 150]})\n",
    "    df_sales_q2 = pd.DataFrame({'product': ['WidgetA', 'WidgetB'], 'sales_q2': [120, 130]})\n",
    "    df_info = pd.DataFrame({'product': ['WidgetA', 'WidgetB'], 'manufacturer': ['ManuX', 'ManuY']})\n",
    "    ```\n",
    "2.  Concatenate `df_sales_q1` and `df_sales_q2` column-wise to create `df_sales_total`. (Hint: you might need to set an index first for a meaningful column bind, or merge them which is covered later. For concat, ensure indices align or think about how they would combine)."
   ]
  },
  {
   "cell_type": "markdown",
   "metadata": {},
   "source": [
    "## 4. Deleting Rows and Columns\n",
    "\n",
    "The `drop()` method is used to remove rows or columns. You need to specify whether you're dropping labels from the index (`axis=0`) or columns (`axis=1`)."
   ]
  },
  {
   "cell_type": "code",
   "execution_count": 85,
   "metadata": {},
   "outputs": [
    {
     "name": "stdout",
     "output_type": "stream",
     "text": [
      "Original DataFrame for deletion:\n",
      "      col_w  col_x  col_y col_z\n",
      "row1     10     40     70     a\n",
      "row2     20     50     80     b\n",
      "row3     30     60     90     c\n",
      "row4     40     70    100     d\n",
      "\n",
      "--------------------------------------------------\n",
      "\n"
     ]
    }
   ],
   "source": [
    "data_del = {'col_w': [10, 20, 30, 40], \n",
    "            'col_x': [40, 50, 60, 70], \n",
    "            'col_y': [70, 80, 90, 100],\n",
    "            'col_z': ['a', 'b', 'c', 'd']}\n",
    "df_del = pd.DataFrame(data_del, index=['row1', 'row2', 'row3', 'row4'])\n",
    "print(\"Original DataFrame for deletion:\")\n",
    "print(df_del)\n",
    "print(\"\\n\" + \"-\"*50 + \"\\n\")"
   ]
  },
  {
   "cell_type": "code",
   "execution_count": 86,
   "id": "e2fc6c3d",
   "metadata": {},
   "outputs": [
    {
     "name": "stdout",
     "output_type": "stream",
     "text": [
      "DataFrame after deleting row 'row2':\n",
      "      col_w  col_x  col_y col_z\n",
      "row1     10     40     70     a\n",
      "row3     30     60     90     c\n",
      "row4     40     70    100     d\n",
      "\n",
      "\n"
     ]
    }
   ],
   "source": [
    "\n",
    "# Deleting a row (e.g., index 'row2')\n",
    "# axis=0 indicates row deletion. inplace=False (default) returns a new DataFrame.\n",
    "df_after_row_delete = df_del.drop('row2', axis=0)\n",
    "print(\"DataFrame after deleting row 'row2':\")\n",
    "print(df_after_row_delete)\n",
    "print(\"\\n\")"
   ]
  },
  {
   "cell_type": "code",
   "execution_count": 87,
   "id": "f4ba06fd",
   "metadata": {},
   "outputs": [
    {
     "name": "stdout",
     "output_type": "stream",
     "text": [
      "DataFrame after deleting rows 'row1' and 'row4':\n",
      "      col_w  col_x  col_y col_z\n",
      "row2     20     50     80     b\n",
      "row3     30     60     90     c\n",
      "\n",
      "--------------------------------------------------\n",
      "\n"
     ]
    }
   ],
   "source": [
    "# Deleting multiple rows\n",
    "df_after_multi_row_delete = df_del.drop(['row1', 'row4'], axis=0)\n",
    "print(\"DataFrame after deleting rows 'row1' and 'row4':\")\n",
    "print(df_after_multi_row_delete)\n",
    "print(\"\\n\" + \"-\"*50 + \"\\n\")"
   ]
  },
  {
   "cell_type": "code",
   "execution_count": 88,
   "id": "6cf5f999",
   "metadata": {},
   "outputs": [
    {
     "name": "stdout",
     "output_type": "stream",
     "text": [
      "DataFrame after deleting column 'col_x':\n",
      "      col_w  col_y col_z\n",
      "row1     10     70     a\n",
      "row2     20     80     b\n",
      "row3     30     90     c\n",
      "row4     40    100     d\n",
      "\n",
      "\n"
     ]
    }
   ],
   "source": [
    "\n",
    "# Deleting a column (e.g., 'col_x')\n",
    "# axis=1 indicates column deletion.\n",
    "df_after_col_delete = df_del.drop('col_x', axis=1)\n",
    "print(\"DataFrame after deleting column 'col_x':\")\n",
    "print(df_after_col_delete)\n",
    "print(\"\\n\")"
   ]
  },
  {
   "cell_type": "code",
   "execution_count": 89,
   "id": "4525332a",
   "metadata": {},
   "outputs": [
    {
     "name": "stdout",
     "output_type": "stream",
     "text": [
      "DataFrame after deleting columns 'col_w' and 'col_z':\n",
      "      col_x  col_y\n",
      "row1     40     70\n",
      "row2     50     80\n",
      "row3     60     90\n",
      "row4     70    100\n",
      "\n",
      "\n"
     ]
    }
   ],
   "source": [
    "\n",
    "# Deleting multiple columns using the 'columns' keyword argument\n",
    "df_after_multi_col_delete = df_del.drop(columns=['col_w', 'col_z'])\n",
    "print(\"DataFrame after deleting columns 'col_w' and 'col_z':\")\n",
    "print(df_after_multi_col_delete)\n",
    "print(\"\\n\")"
   ]
  },
  {
   "cell_type": "code",
   "execution_count": 90,
   "id": "13beaf46",
   "metadata": {},
   "outputs": [],
   "source": [
    "# To modify the original DataFrame directly, use inplace=True\n",
    "# Example: df_del.drop('row3', axis=0, inplace=True)\n",
    "# print(\"Original DataFrame after inplace deletion of 'row3':\")\n",
    "# print(df_del) # This would show df_del modified"
   ]
  },
  {
   "cell_type": "code",
   "execution_count": null,
   "id": "3216ea37",
   "metadata": {},
   "outputs": [],
   "source": []
  },
  {
   "cell_type": "markdown",
   "metadata": {},
   "source": [
    "### ✏️ Try it Yourself! - Section 4\n",
    "\n",
    "Using `df_del` (or a copy of it):\n",
    "1.  Delete the column `col_y` and store the result in a new DataFrame called `df_del_noy`.\n",
    "2.  From the original `df_del`, delete rows with index `row1` and `row3` simultaneously. Print the result.\n",
    "3.  Try to delete a column named `col_nonexistent` from `df_del`. What happens? How can you prevent an error if the column might not exist? (Hint: look at the `errors` parameter in `drop()`)."
   ]
  },
  {
   "cell_type": "markdown",
   "metadata": {},
   "source": [
    "## 5. Reading Files into Pandas\n",
    "\n",
    "Pandas provides functions to easily read data from various file formats like CSV (Comma Separated Values), TSV (Tab Separated Values), and Excel spreadsheets.\n",
    "\n",
    "**Note:** For these examples to run, you'll need to have corresponding `sample.csv`, `sample.tsv`, and `sample.xlsx` files in the data directory from the directory of this notebook, or provide the correct path to the files."
   ]
  },
  {
   "cell_type": "code",
   "execution_count": null,
   "metadata": {},
   "outputs": [],
   "source": [
    "# --- Reading CSV --- \n",
    "try:\n",
    "    df_from_csv = pd.read_csv('data/sample.csv')\n",
    "    print(\"DataFrame from CSV ('data/sample.csv'):\")\n",
    "    print(df_from_csv)\n",
    "except FileNotFoundError:\n",
    "    print(\"sample.csv not found. Please ensure the file exists in the correct location.\")\n",
    "print(\"\\n\" + \"-\"*50 + \"\\n\")\n",
    "\n"
   ]
  },
  {
   "cell_type": "code",
   "execution_count": null,
   "id": "ab9dd5a8",
   "metadata": {},
   "outputs": [],
   "source": [
    "# --- Reading TSV (Tab Separated Values) ---\n",
    "# For TSV files, you specify the delimiter as '\\t'.\n",
    "try:\n",
    "    df_from_tsv = pd.read_csv('data/sample.tsv', sep='\\t')\n",
    "    print(\"DataFrame from TSV ('data/sample.tsv'):\")\n",
    "    print(df_from_tsv)\n",
    "except FileNotFoundError:\n",
    "    print(\"sample.tsv not found. Please ensure the file exists in the correct location.\")\n",
    "print(\"\\n\" + \"-\"*50 + \"\\n\")\n"
   ]
  },
  {
   "cell_type": "code",
   "execution_count": null,
   "id": "b4e37ebe",
   "metadata": {},
   "outputs": [
    {
     "name": "stdout",
     "output_type": "stream",
     "text": [
      "'openpyxl' library is not installed. Use pip or conda to install openpyxl.\n"
     ]
    }
   ],
   "source": [
    "\n",
    "# --- Reading Excel ---\n",
    "try:\n",
    "    # You can specify the sheet name or sheet index (0-based).\n",
    "    df_from_excel = pd.read_excel('dataa/sample.xlsx', sheet_name='SheetAlpha', engine='openpyxl')\n",
    "    print(\"DataFrame from Excel ('data/sample.xlsx', sheet 'SheetAlpha'):\")\n",
    "    print(df_from_excel)\n",
    "    \n",
    "    # Example: Reading another sheet if it existed\n",
    "    # df_excel_sheet2 = pd.read_excel('sample.xlsx', sheet_name='SheetBeta') \n",
    "except FileNotFoundError:\n",
    "    print(\"sample.xlsx not found. Please ensure the file exists or was created successfully.\")\n",
    "except ImportError:\n",
    "    print(\"'openpyxl' library is not installed. Use pip or conda to install openpyxl.\")\n",
    "except Exception as e:\n",
    "    # Catching other potential errors like sheet not found\n",
    "    print(f\"Error reading Excel file: {e}\")"
   ]
  },
  {
   "cell_type": "markdown",
   "metadata": {},
   "source": [
    "### ✏️ Try it Yourself! - Section 5\n",
    "\n",
    "1.  Create a new text file named `my_data.csv` with the following content:\n",
    "    ```\n",
    "    City,Country,Population\n",
    "    Tokyo,Japan,37000000\n",
    "    Delhi,India,30000000\n",
    "    Shanghai,China,27000000\n",
    "    ```\n",
    "    Read this file into a Pandas DataFrame called `df_cities` and print it.\n",
    "2.  Using the `sample.csv` file created in the example, read it into a DataFrame but only select the 'id' and 'score' columns. (Hint: use the `usecols` parameter of `pd.read_csv()`).\n",
    "3.  If `sample.xlsx` was created, try reading it but skip the header row and assign your own column names: `['X_Value', 'Y_Value']`. (Hint: `skiprows` and `names` parameters in `pd.read_excel()`)."
   ]
  },
  {
   "cell_type": "markdown",
   "metadata": {},
   "source": [
    "## 6. Basic Pandas DataFrame Methods\n",
    "\n",
    "`head()`, `tail()`, `describe()`, and `info()` are essential for getting a quick overview of your DataFrame's structure and content."
   ]
  },
  {
   "cell_type": "code",
   "execution_count": 6,
   "metadata": {},
   "outputs": [],
   "source": [
    "# Download a CSV file and "
   ]
  },
  {
   "cell_type": "markdown",
   "metadata": {},
   "source": [
    "### ✏️ Try it Yourself! - Section 6\n",
    "\n",
    "Using `df_basic_methods`:\n",
    "1.  Display the first row of the DataFrame using `head()`.\n",
    "2.  Display the last row of the DataFrame using `tail()`.\n",
    "3.  Use `describe()` to get statistics for only the 'object' (string/categorical) columns. (Hint: `describe(include=['object'])`).\n",
    "4.  What does `df_basic_methods.shape` output? What does it represent?\n",
    "5.  What are the column names of `df_basic_methods`? (Hint: `df.columns`)."
   ]
  },
  {
   "cell_type": "markdown",
   "metadata": {},
   "source": [
    "## 7. Data Cleaning and Manipulation\n",
    "\n",
    "This section covers common data cleaning tasks:\n",
    "* `isna()`: Detects missing values (NaN).\n",
    "* `fillna()`: Fills missing values with a specified value or method.\n",
    "* `replace()`: Replaces specified values with other values.\n",
    "* `astype()`: Converts the data type of a column.\n",
    "* `duplicated()` / `drop_duplicates()`: Identifies and removes duplicate rows."
   ]
  },
  {
   "cell_type": "code",
   "execution_count": 7,
   "metadata": {},
   "outputs": [],
   "source": [
    "data_clean_raw = {\n",
    "    'id': [1, 2, 3, 4, 5, 2, 6, 7], # Note: duplicate id '2'\n",
    "    'item_name': ['Apple', 'Banana', 'Orange', np.nan, 'Grape', 'Banana', 'Melon', 'Apple'],\n",
    "    'quantity': [10, 15, np.nan, 20, 25, 15, 30, 10],\n",
    "    'price_str': ['5.0', '3.0', '4.5', '7.0', '6.2', '3.0', '10.0', '5.0'],\n",
    "    'category': ['Fruit', 'Fruit', 'Fruit', 'Vegetable', 'Fruit', 'Fruit', 'Fruit', 'Fruit']\n",
    "}\n"
   ]
  },
  {
   "cell_type": "code",
   "execution_count": null,
   "id": "090cf9a6",
   "metadata": {},
   "outputs": [
    {
     "name": "stdout",
     "output_type": "stream",
     "text": [
      "Original DataFrame for cleaning:\n",
      "   item_name  quantity price_str   category\n",
      "id                                         \n",
      "1      Apple      10.0       5.0      Fruit\n",
      "2     Banana      15.0       3.0      Fruit\n",
      "3     Orange       NaN       4.5      Fruit\n",
      "4        NaN      20.0       7.0  Vegetable\n",
      "5      Grape      25.0       6.2      Fruit\n",
      "2     Banana      15.0       3.0      Fruit\n",
      "6      Melon      30.0      10.0      Fruit\n",
      "7      Apple      10.0       5.0      Fruit\n",
      "\n",
      "--------------------------------------------------\n",
      "\n"
     ]
    }
   ],
   "source": [
    "df_clean = pd.DataFrame(data_clean_raw)\n",
    "df_clean= df_clean.set_index(\"id\")\n",
    "print(\"Original DataFrame for cleaning:\")\n",
    "print(df_clean)\n",
    "print(\"\\n\" + \"-\"*50 + \"\\n\")\n"
   ]
  },
  {
   "cell_type": "code",
   "execution_count": null,
   "id": "b8154843",
   "metadata": {},
   "outputs": [],
   "source": [
    "\n",
    "# --- isna() --- Detect missing values\n",
    "print(\"Missing values (df_clean.isna()):\")\n",
    "print(df_clean.isna())\n",
    "print(\"\\nSum of missing values per column:\")\n",
    "print(df_clean.isna().sum())\n",
    "print(\"\\n\" + \"-\"*50 + \"\\n\")\n"
   ]
  },
  {
   "cell_type": "code",
   "execution_count": 15,
   "id": "e614bc6d",
   "metadata": {},
   "outputs": [
    {
     "name": "stdout",
     "output_type": "stream",
     "text": [
      "DataFrame after fillna():\n",
      "   item_name  quantity price_str   category\n",
      "id                                         \n",
      "1      Apple      10.0       5.0      Fruit\n",
      "2     Banana      15.0       3.0      Fruit\n",
      "3     Orange      15.0       4.5      Fruit\n",
      "4    Unknown      20.0       7.0  Vegetable\n",
      "5      Grape      25.0       6.2      Fruit\n",
      "2     Banana      15.0       3.0      Fruit\n",
      "6      Melon      30.0      10.0      Fruit\n",
      "7      Apple      10.0       5.0      Fruit\n",
      "\n",
      "--------------------------------------------------\n",
      "\n"
     ]
    }
   ],
   "source": [
    "\n",
    "# --- fillna() --- Fill missing values\n",
    "df_filled = df_clean.copy() # Work on a copy\n",
    "df_filled.fillna({\"item_name\": \"Unknown\"}, inplace=True)\n",
    "df_filled.fillna({\"quantity\": df_filled[\"quantity\"].median()}, inplace=True)\n",
    "print(\"DataFrame after fillna():\")\n",
    "print(df_filled)\n",
    "print(\"\\n\" + \"-\"*50 + \"\\n\")\n"
   ]
  },
  {
   "cell_type": "code",
   "execution_count": 22,
   "id": "12aa8308",
   "metadata": {},
   "outputs": [
    {
     "name": "stdout",
     "output_type": "stream",
     "text": [
      "DataFrame after replace('Vegetable' with 'Veggie' in 'category'):\n",
      "   item_name  quantity price_str category\n",
      "id                                       \n",
      "1      Apple      10.0       5.0    Fruit\n",
      "2     Banana      15.0       3.0    Fruit\n",
      "3     Orange      15.0       4.5    Fruit\n",
      "4    Unknown      20.0       7.0   Veggie\n",
      "5      Grape      25.0       6.2    Fruit\n",
      "2     Banana      15.0       3.0    Fruit\n",
      "6      Melon      30.0      10.0    Fruit\n",
      "7      Apple      10.0       5.0    Fruit\n",
      "\n",
      "--------------------------------------------------\n",
      "\n"
     ]
    }
   ],
   "source": [
    "\n",
    "# --- replace() --- Replace values\n",
    "df_replaced = df_filled.copy()\n",
    "df_replaced.replace({\"category\": {\"Vegetable\":\"Veggie\"}}, inplace=True)\n",
    "print(\"DataFrame after replace('Vegetable' with 'Veggie' in 'category'):\")\n",
    "print(df_replaced)\n",
    "print(\"\\n\" + \"-\"*50 + \"\\n\")\n"
   ]
  },
  {
   "cell_type": "code",
   "execution_count": 23,
   "id": "fdadaa03",
   "metadata": {},
   "outputs": [
    {
     "name": "stdout",
     "output_type": "stream",
     "text": [
      "DataFrame after converting 'price_str' to numeric 'price_numeric':\n",
      "   item_name  quantity category  price_numeric\n",
      "id                                            \n",
      "1      Apple      10.0    Fruit            5.0\n",
      "2     Banana      15.0    Fruit            3.0\n",
      "3     Orange      15.0    Fruit            4.5\n",
      "4    Unknown      20.0   Veggie            7.0\n",
      "5      Grape      25.0    Fruit            6.2\n",
      "2     Banana      15.0    Fruit            3.0\n",
      "6      Melon      30.0    Fruit           10.0\n",
      "7      Apple      10.0    Fruit            5.0\n",
      "Data types after astype():\n",
      "item_name         object\n",
      "quantity         float64\n",
      "category          object\n",
      "price_numeric    float64\n",
      "dtype: object\n",
      "\n",
      "--------------------------------------------------\n",
      "\n"
     ]
    }
   ],
   "source": [
    "\n",
    "# --- astype() --- Cast a pandas object to a specified dtype\n",
    "df_typed = df_replaced.copy()\n",
    "# Convert 'price_str' to float. Errors='coerce' will turn unparseable strings into NaN.\n",
    "df_typed['price_numeric'] = pd.to_numeric(df_typed['price_str'], errors='coerce')\n",
    "# df_typed['price_numeric'] = df_typed['price_str'].astype(float) # This would raise an error if there were non-numeric strings not handled by to_numeric\n",
    "df_typed.drop('price_str', axis=1, inplace=True) # Drop the original string column\n",
    "print(\"DataFrame after converting 'price_str' to numeric 'price_numeric':\")\n",
    "print(df_typed)\n",
    "print(\"Data types after astype():\")\n",
    "print(df_typed.dtypes)\n",
    "print(\"\\n\" + \"-\"*50 + \"\\n\")\n",
    "\n"
   ]
  },
  {
   "cell_type": "code",
   "execution_count": 24,
   "id": "fdae3860",
   "metadata": {},
   "outputs": [
    {
     "name": "stdout",
     "output_type": "stream",
     "text": [
      "Identifying duplicated rows (all columns considered by default):\n",
      "id\n",
      "1    False\n",
      "2    False\n",
      "3    False\n",
      "4    False\n",
      "5    False\n",
      "2     True\n",
      "6    False\n",
      "7     True\n",
      "dtype: bool\n",
      "\n",
      "Show duplicated rows (keeping first occurrence as non-duplicate):\n",
      "   item_name  quantity category  price_numeric\n",
      "id                                            \n",
      "2     Banana      15.0    Fruit            3.0\n",
      "7      Apple      10.0    Fruit            5.0\n",
      "\n",
      "Show all occurrences of duplicated rows (based on all columns):\n",
      "   item_name  quantity category  price_numeric\n",
      "id                                            \n",
      "1      Apple      10.0    Fruit            5.0\n",
      "2     Banana      15.0    Fruit            3.0\n",
      "2     Banana      15.0    Fruit            3.0\n",
      "7      Apple      10.0    Fruit            5.0\n",
      "\n",
      "\n"
     ]
    }
   ],
   "source": [
    "# --- duplicated() / drop_duplicates() --- Find and remove duplicate rows\n",
    "print(\"Identifying duplicated rows (all columns considered by default):\")\n",
    "print(df_typed.duplicated())\n",
    "print(\"\\nShow duplicated rows (keeping first occurrence as non-duplicate):\")\n",
    "print(df_typed[df_typed.duplicated()])\n",
    "print(\"\\nShow all occurrences of duplicated rows (based on all columns):\")\n",
    "print(df_typed[df_typed.duplicated(keep=False)])\n",
    "print(\"\\n\")\n"
   ]
  },
  {
   "cell_type": "code",
   "execution_count": 25,
   "id": "02e0306d",
   "metadata": {},
   "outputs": [
    {
     "name": "stdout",
     "output_type": "stream",
     "text": [
      "DataFrame after drop_duplicates() (keeping first):\n",
      "   item_name  quantity category  price_numeric\n",
      "id                                            \n",
      "1      Apple      10.0    Fruit            5.0\n",
      "2     Banana      15.0    Fruit            3.0\n",
      "3     Orange      15.0    Fruit            4.5\n",
      "4    Unknown      20.0   Veggie            7.0\n",
      "5      Grape      25.0    Fruit            6.2\n",
      "6      Melon      30.0    Fruit           10.0\n",
      "\n",
      "\n"
     ]
    }
   ],
   "source": [
    "\n",
    "# Drop duplicates, keeping the first occurrence by default\n",
    "df_no_duplicates = df_typed.drop_duplicates()\n",
    "print(\"DataFrame after drop_duplicates() (keeping first):\")\n",
    "print(df_no_duplicates)\n",
    "print(\"\\n\")\n"
   ]
  },
  {
   "cell_type": "code",
   "execution_count": 26,
   "id": "da7df63b",
   "metadata": {},
   "outputs": [
    {
     "name": "stdout",
     "output_type": "stream",
     "text": [
      "DataFrame after drop_duplicates based on 'item_name' and 'category' (keeping last):\n",
      "   item_name  quantity category  price_numeric\n",
      "id                                            \n",
      "3     Orange      15.0    Fruit            4.5\n",
      "4    Unknown      20.0   Veggie            7.0\n",
      "5      Grape      25.0    Fruit            6.2\n",
      "2     Banana      15.0    Fruit            3.0\n",
      "6      Melon      30.0    Fruit           10.0\n",
      "7      Apple      10.0    Fruit            5.0\n"
     ]
    }
   ],
   "source": [
    "\n",
    "# Drop duplicates based on a subset of columns\n",
    "df_no_dup_subset = df_typed.drop_duplicates(subset=['item_name', 'category'], keep='last')\n",
    "print(\"DataFrame after drop_duplicates based on 'item_name' and 'category' (keeping last):\")\n",
    "print(df_no_dup_subset)"
   ]
  },
  {
   "cell_type": "code",
   "execution_count": null,
   "id": "b7874e3b",
   "metadata": {},
   "outputs": [],
   "source": []
  },
  {
   "cell_type": "code",
   "execution_count": null,
   "id": "e131c39e",
   "metadata": {},
   "outputs": [],
   "source": []
  },
  {
   "cell_type": "code",
   "execution_count": null,
   "id": "862cf08f",
   "metadata": {},
   "outputs": [],
   "source": []
  },
  {
   "cell_type": "markdown",
   "metadata": {},
   "source": [
    "### ✏️ Try it Yourself! - Section 7\n",
    "\n",
    "Using `df_clean` (or a copy):\n",
    "1.  Fill the NaN values in the 'quantity' column with `0`.\n",
    "2.  In the 'category' column, replace 'Fruit' with 'FRUIT_TYPE' and 'Vegetable' with 'VEGGIE_TYPE'.\n",
    "3.  Convert the 'quantity' column (after filling NaNs) to the `str` (string) data type.\n",
    "4.  Identify and print rows that are duplicates based *only* on the 'id' column. Then, drop these duplicates, keeping the `False` (last) occurrence."
   ]
  },
  {
   "cell_type": "markdown",
   "metadata": {},
   "source": [
    "## 8. `sort_values()`\n",
    "\n",
    "The `sort_values()` method sorts a DataFrame by one or more columns. You can specify ascending or descending order."
   ]
  },
  {
   "cell_type": "code",
   "execution_count": 95,
   "metadata": {},
   "outputs": [
    {
     "name": "stdout",
     "output_type": "stream",
     "text": [
      "Original DataFrame for sorting:\n"
     ]
    },
    {
     "data": {
      "text/html": [
       "<div>\n",
       "<style scoped>\n",
       "    .dataframe tbody tr th:only-of-type {\n",
       "        vertical-align: middle;\n",
       "    }\n",
       "\n",
       "    .dataframe tbody tr th {\n",
       "        vertical-align: top;\n",
       "    }\n",
       "\n",
       "    .dataframe thead th {\n",
       "        text-align: right;\n",
       "    }\n",
       "</style>\n",
       "<table border=\"1\" class=\"dataframe\">\n",
       "  <thead>\n",
       "    <tr style=\"text-align: right;\">\n",
       "      <th></th>\n",
       "      <th>name</th>\n",
       "      <th>age</th>\n",
       "      <th>score</th>\n",
       "    </tr>\n",
       "  </thead>\n",
       "  <tbody>\n",
       "    <tr>\n",
       "      <th>0</th>\n",
       "      <td>Eve</td>\n",
       "      <td>29</td>\n",
       "      <td>88</td>\n",
       "    </tr>\n",
       "    <tr>\n",
       "      <th>1</th>\n",
       "      <td>Bob</td>\n",
       "      <td>24</td>\n",
       "      <td>95</td>\n",
       "    </tr>\n",
       "    <tr>\n",
       "      <th>2</th>\n",
       "      <td>Charlie</td>\n",
       "      <td>35</td>\n",
       "      <td>85</td>\n",
       "    </tr>\n",
       "    <tr>\n",
       "      <th>3</th>\n",
       "      <td>Alice</td>\n",
       "      <td>30</td>\n",
       "      <td>92</td>\n",
       "    </tr>\n",
       "    <tr>\n",
       "      <th>4</th>\n",
       "      <td>David</td>\n",
       "      <td>22</td>\n",
       "      <td>95</td>\n",
       "    </tr>\n",
       "  </tbody>\n",
       "</table>\n",
       "</div>"
      ],
      "text/plain": [
       "      name  age  score\n",
       "0      Eve   29     88\n",
       "1      Bob   24     95\n",
       "2  Charlie   35     85\n",
       "3    Alice   30     92\n",
       "4    David   22     95"
      ]
     },
     "execution_count": 95,
     "metadata": {},
     "output_type": "execute_result"
    }
   ],
   "source": [
    "data_sort = {'name': ['Eve', 'Bob', 'Charlie', 'Alice', 'David'], \n",
    "             'age': [29, 24, 35, 30, 22],\n",
    "             'score': [88, 95, 85, 92, 95]}\n",
    "df_sort = pd.DataFrame(data_sort)\n",
    "print(\"Original DataFrame for sorting:\")\n",
    "df_sort\n"
   ]
  },
  {
   "cell_type": "code",
   "execution_count": 96,
   "id": "d9d3a1e8",
   "metadata": {},
   "outputs": [
    {
     "name": "stdout",
     "output_type": "stream",
     "text": [
      "Sorted by name (ascending):\n"
     ]
    },
    {
     "data": {
      "text/html": [
       "<div>\n",
       "<style scoped>\n",
       "    .dataframe tbody tr th:only-of-type {\n",
       "        vertical-align: middle;\n",
       "    }\n",
       "\n",
       "    .dataframe tbody tr th {\n",
       "        vertical-align: top;\n",
       "    }\n",
       "\n",
       "    .dataframe thead th {\n",
       "        text-align: right;\n",
       "    }\n",
       "</style>\n",
       "<table border=\"1\" class=\"dataframe\">\n",
       "  <thead>\n",
       "    <tr style=\"text-align: right;\">\n",
       "      <th></th>\n",
       "      <th>name</th>\n",
       "      <th>age</th>\n",
       "      <th>score</th>\n",
       "    </tr>\n",
       "  </thead>\n",
       "  <tbody>\n",
       "    <tr>\n",
       "      <th>3</th>\n",
       "      <td>Alice</td>\n",
       "      <td>30</td>\n",
       "      <td>92</td>\n",
       "    </tr>\n",
       "    <tr>\n",
       "      <th>1</th>\n",
       "      <td>Bob</td>\n",
       "      <td>24</td>\n",
       "      <td>95</td>\n",
       "    </tr>\n",
       "    <tr>\n",
       "      <th>2</th>\n",
       "      <td>Charlie</td>\n",
       "      <td>35</td>\n",
       "      <td>85</td>\n",
       "    </tr>\n",
       "    <tr>\n",
       "      <th>4</th>\n",
       "      <td>David</td>\n",
       "      <td>22</td>\n",
       "      <td>95</td>\n",
       "    </tr>\n",
       "    <tr>\n",
       "      <th>0</th>\n",
       "      <td>Eve</td>\n",
       "      <td>29</td>\n",
       "      <td>88</td>\n",
       "    </tr>\n",
       "  </tbody>\n",
       "</table>\n",
       "</div>"
      ],
      "text/plain": [
       "      name  age  score\n",
       "3    Alice   30     92\n",
       "1      Bob   24     95\n",
       "2  Charlie   35     85\n",
       "4    David   22     95\n",
       "0      Eve   29     88"
      ]
     },
     "execution_count": 96,
     "metadata": {},
     "output_type": "execute_result"
    }
   ],
   "source": [
    "\n",
    "# Sort by 'name' in ascending order (default)\n",
    "df_sorted_name = df_sort.sort_values(by='name')\n",
    "print(\"Sorted by name (ascending):\")\n",
    "df_sorted_name"
   ]
  },
  {
   "cell_type": "code",
   "execution_count": 97,
   "id": "add3d470",
   "metadata": {},
   "outputs": [
    {
     "name": "stdout",
     "output_type": "stream",
     "text": [
      "Sorted by age (descending):\n"
     ]
    },
    {
     "data": {
      "text/html": [
       "<div>\n",
       "<style scoped>\n",
       "    .dataframe tbody tr th:only-of-type {\n",
       "        vertical-align: middle;\n",
       "    }\n",
       "\n",
       "    .dataframe tbody tr th {\n",
       "        vertical-align: top;\n",
       "    }\n",
       "\n",
       "    .dataframe thead th {\n",
       "        text-align: right;\n",
       "    }\n",
       "</style>\n",
       "<table border=\"1\" class=\"dataframe\">\n",
       "  <thead>\n",
       "    <tr style=\"text-align: right;\">\n",
       "      <th></th>\n",
       "      <th>name</th>\n",
       "      <th>age</th>\n",
       "      <th>score</th>\n",
       "    </tr>\n",
       "  </thead>\n",
       "  <tbody>\n",
       "    <tr>\n",
       "      <th>2</th>\n",
       "      <td>Charlie</td>\n",
       "      <td>35</td>\n",
       "      <td>85</td>\n",
       "    </tr>\n",
       "    <tr>\n",
       "      <th>3</th>\n",
       "      <td>Alice</td>\n",
       "      <td>30</td>\n",
       "      <td>92</td>\n",
       "    </tr>\n",
       "    <tr>\n",
       "      <th>0</th>\n",
       "      <td>Eve</td>\n",
       "      <td>29</td>\n",
       "      <td>88</td>\n",
       "    </tr>\n",
       "    <tr>\n",
       "      <th>1</th>\n",
       "      <td>Bob</td>\n",
       "      <td>24</td>\n",
       "      <td>95</td>\n",
       "    </tr>\n",
       "    <tr>\n",
       "      <th>4</th>\n",
       "      <td>David</td>\n",
       "      <td>22</td>\n",
       "      <td>95</td>\n",
       "    </tr>\n",
       "  </tbody>\n",
       "</table>\n",
       "</div>"
      ],
      "text/plain": [
       "      name  age  score\n",
       "2  Charlie   35     85\n",
       "3    Alice   30     92\n",
       "0      Eve   29     88\n",
       "1      Bob   24     95\n",
       "4    David   22     95"
      ]
     },
     "execution_count": 97,
     "metadata": {},
     "output_type": "execute_result"
    }
   ],
   "source": [
    "\n",
    "# Sort by 'age' in descending order\n",
    "df_sorted_age_desc = df_sort.sort_values(by='age', ascending=False)\n",
    "print(\"Sorted by age (descending):\")\n",
    "df_sorted_age_desc\n"
   ]
  },
  {
   "cell_type": "code",
   "execution_count": 98,
   "id": "b8823b46",
   "metadata": {},
   "outputs": [
    {
     "name": "stdout",
     "output_type": "stream",
     "text": [
      "Sorted by score (desc) then name (asc):\n"
     ]
    },
    {
     "data": {
      "text/html": [
       "<div>\n",
       "<style scoped>\n",
       "    .dataframe tbody tr th:only-of-type {\n",
       "        vertical-align: middle;\n",
       "    }\n",
       "\n",
       "    .dataframe tbody tr th {\n",
       "        vertical-align: top;\n",
       "    }\n",
       "\n",
       "    .dataframe thead th {\n",
       "        text-align: right;\n",
       "    }\n",
       "</style>\n",
       "<table border=\"1\" class=\"dataframe\">\n",
       "  <thead>\n",
       "    <tr style=\"text-align: right;\">\n",
       "      <th></th>\n",
       "      <th>name</th>\n",
       "      <th>age</th>\n",
       "      <th>score</th>\n",
       "    </tr>\n",
       "  </thead>\n",
       "  <tbody>\n",
       "    <tr>\n",
       "      <th>1</th>\n",
       "      <td>Bob</td>\n",
       "      <td>24</td>\n",
       "      <td>95</td>\n",
       "    </tr>\n",
       "    <tr>\n",
       "      <th>4</th>\n",
       "      <td>David</td>\n",
       "      <td>22</td>\n",
       "      <td>95</td>\n",
       "    </tr>\n",
       "    <tr>\n",
       "      <th>3</th>\n",
       "      <td>Alice</td>\n",
       "      <td>30</td>\n",
       "      <td>92</td>\n",
       "    </tr>\n",
       "    <tr>\n",
       "      <th>0</th>\n",
       "      <td>Eve</td>\n",
       "      <td>29</td>\n",
       "      <td>88</td>\n",
       "    </tr>\n",
       "    <tr>\n",
       "      <th>2</th>\n",
       "      <td>Charlie</td>\n",
       "      <td>35</td>\n",
       "      <td>85</td>\n",
       "    </tr>\n",
       "  </tbody>\n",
       "</table>\n",
       "</div>"
      ],
      "text/plain": [
       "      name  age  score\n",
       "1      Bob   24     95\n",
       "4    David   22     95\n",
       "3    Alice   30     92\n",
       "0      Eve   29     88\n",
       "2  Charlie   35     85"
      ]
     },
     "execution_count": 98,
     "metadata": {},
     "output_type": "execute_result"
    }
   ],
   "source": [
    "# Sort by multiple columns: 'score' descending, then 'name' ascending\n",
    "# This is useful when there are ties in the primary sort column ('score').\n",
    "df_sorted_multiple = df_sort.sort_values(by=['score', 'name'], ascending=[False, True])\n",
    "print(\"Sorted by score (desc) then name (asc):\")\n",
    "df_sorted_multiple"
   ]
  },
  {
   "cell_type": "code",
   "execution_count": null,
   "id": "3c373716",
   "metadata": {},
   "outputs": [],
   "source": []
  },
  {
   "cell_type": "markdown",
   "metadata": {},
   "source": [
    "### ✏️ Try it Yourself! - Section 8\n",
    "\n",
    "Using `df_sort`:\n",
    "1.  Sort the DataFrame by 'age' in ascending order, and then by 'score' in ascending order for ties in age.\n",
    "2.  Sort the DataFrame by 'name' in descending order.\n",
    "3.  Sort the DataFrame to find who has the lowest score. If there are ties, list them alphabetically by name."
   ]
  },
  {
   "cell_type": "markdown",
   "metadata": {},
   "source": [
    "## 9. Filtering and Boolean Masking\n",
    "\n",
    "This technique allows you to select subsets of data from a DataFrame based on one or more conditions. A boolean mask is a Series of True/False values that is used to select rows where the mask is True."
   ]
  },
  {
   "cell_type": "code",
   "execution_count": null,
   "metadata": {},
   "outputs": [],
   "source": [
    "# Get the Dataset from the Internet Kaggle and Use some Filtering and Boolean masking to show some results "
   ]
  },
  {
   "cell_type": "markdown",
   "metadata": {},
   "source": [
    "### ✏️ Try it Yourself! - Section 9\n",
    "\n",
    "1.  Make a Scenerio yourself and do the filtering through the boolean masks. "
   ]
  },
  {
   "cell_type": "markdown",
   "metadata": {},
   "source": [
    "## 10. `apply()` and `map()`\n",
    "\n",
    "* `apply()`: Used to apply a function along an axis of the DataFrame (rows or columns) or element-wise on a Series.\n",
    "* `map()`: Used on a Series to substitute each value in the Series with another value. It's useful for mapping categorical data to numerical representations or applying a simple element-wise transformation based on a dictionary or a function."
   ]
  },
  {
   "cell_type": "code",
   "execution_count": 31,
   "metadata": {},
   "outputs": [
    {
     "name": "stdout",
     "output_type": "stream",
     "text": [
      "Original DataFrame for apply/map:\n",
      "   Order_ID Customer_Name       Drink    Size  Price   Tip Payment_Method  \\\n",
      "0      1001         Alice       Latte  Medium   3.50  0.50           Card   \n",
      "1      1002           Bob    Espresso   Small   2.00  0.00           Cash   \n",
      "2      1003       Charlie  Cappuccino   Large   4.00  1.00           Card   \n",
      "3      1004         Diana  Flat White  Medium   3.75  0.25           Card   \n",
      "4      1005         Ethan   Americano   Large   3.25  0.75         Mobile   \n",
      "\n",
      "  Order_Time  \n",
      "0      08:15  \n",
      "1      09:00  \n",
      "2      08:45  \n",
      "3      10:30  \n",
      "4      11:00  \n"
     ]
    }
   ],
   "source": [
    "data_orders = {\n",
    "    'Order_ID': [1001, 1002, 1003, 1004, 1005],\n",
    "    'Customer_Name': ['Alice', 'Bob', 'Charlie', 'Diana', 'Ethan'],\n",
    "    'Drink': ['Latte', 'Espresso', 'Cappuccino', 'Flat White', 'Americano'],\n",
    "    'Size': ['Medium', 'Small', 'Large', 'Medium', 'Large'],\n",
    "    'Price': [3.50, 2.00, 4.00, 3.75, 3.25],\n",
    "    'Tip': [0.50, 0.00, 1.00, 0.25, 0.75],\n",
    "    'Payment_Method': ['Card', 'Cash', 'Card', 'Card', 'Mobile'],\n",
    "    'Order_Time': ['08:15', '09:00', '08:45', '10:30', '11:00']\n",
    "}\n",
    "df_apply_map = pd.DataFrame(data_orders)\n",
    "print(\"Original DataFrame for apply/map:\")\n",
    "print(df_apply_map)\n"
   ]
  },
  {
   "cell_type": "code",
   "execution_count": 33,
   "id": "0b1ffaea",
   "metadata": {},
   "outputs": [
    {
     "name": "stdout",
     "output_type": "stream",
     "text": [
      "DataFrame with 'Tip Squared' (using apply on Series 'A_nums'):\n",
      "   Order_ID Customer_Name       Drink    Size  Price   Tip Payment_Method  \\\n",
      "0      1001         Alice       Latte  Medium   3.50  0.50           Card   \n",
      "1      1002           Bob    Espresso   Small   2.00  0.00           Cash   \n",
      "2      1003       Charlie  Cappuccino   Large   4.00  1.00           Card   \n",
      "3      1004         Diana  Flat White  Medium   3.75  0.25           Card   \n",
      "4      1005         Ethan   Americano   Large   3.25  0.75         Mobile   \n",
      "\n",
      "  Order_Time  Tip_Squared  \n",
      "0      08:15       0.2500  \n",
      "1      09:00       0.0000  \n",
      "2      08:45       1.0000  \n",
      "3      10:30       0.0625  \n",
      "4      11:00       0.5625  \n",
      "\n",
      "\n"
     ]
    }
   ],
   "source": [
    "\n",
    "# --- apply() on a Series ---\n",
    "# Example: Square each number in 'A_nums'\n",
    "df_apply_map['Tip_Squared'] = df_apply_map['Tip'].apply(lambda x: x**2)\n",
    "print(\"DataFrame with 'Tip Squared' (using apply on Series 'A_nums'):\")\n",
    "print(df_apply_map)\n",
    "print(\"\\n\")\n"
   ]
  },
  {
   "cell_type": "code",
   "execution_count": 38,
   "id": "88ad0473",
   "metadata": {},
   "outputs": [
    {
     "name": "stdout",
     "output_type": "stream",
     "text": [
      "DataFrame with 'Customer_char_len' (using apply on Series 'Customer_name'):\n",
      "  Customer_Name  Customer_char_len\n",
      "0         Alice                  5\n",
      "1           Bob                  3\n",
      "2       Charlie                  7\n",
      "3         Diana                  5\n",
      "4         Ethan                  5\n",
      "\n",
      "--------------------------------------------------\n",
      "\n"
     ]
    }
   ],
   "source": [
    "\n",
    "# Example: Get the length of each string in 'D_text'\n",
    "df_apply_map['Customer_char_len'] = df_apply_map['Customer_Name'].apply(len)\n",
    "print(\"DataFrame with 'Customer_char_len' (using apply on Series 'Customer_name'):\")\n",
    "print(df_apply_map[['Customer_Name', 'Customer_char_len']])\n",
    "print(\"\\n\" + \"-\"*50 + \"\\n\")\n"
   ]
  },
  {
   "cell_type": "code",
   "execution_count": 39,
   "id": "d3c63de1",
   "metadata": {},
   "outputs": [
    {
     "data": {
      "text/html": [
       "<div>\n",
       "<style scoped>\n",
       "    .dataframe tbody tr th:only-of-type {\n",
       "        vertical-align: middle;\n",
       "    }\n",
       "\n",
       "    .dataframe tbody tr th {\n",
       "        vertical-align: top;\n",
       "    }\n",
       "\n",
       "    .dataframe thead th {\n",
       "        text-align: right;\n",
       "    }\n",
       "</style>\n",
       "<table border=\"1\" class=\"dataframe\">\n",
       "  <thead>\n",
       "    <tr style=\"text-align: right;\">\n",
       "      <th></th>\n",
       "      <th>Order_ID</th>\n",
       "      <th>Customer_Name</th>\n",
       "      <th>Drink</th>\n",
       "      <th>Size</th>\n",
       "      <th>Price</th>\n",
       "      <th>Tip</th>\n",
       "      <th>Payment_Method</th>\n",
       "      <th>Order_Time</th>\n",
       "      <th>Tip_Squared</th>\n",
       "      <th>Custormer_chars_len</th>\n",
       "      <th>Customer_char_len</th>\n",
       "    </tr>\n",
       "  </thead>\n",
       "  <tbody>\n",
       "    <tr>\n",
       "      <th>0</th>\n",
       "      <td>1001</td>\n",
       "      <td>Alice</td>\n",
       "      <td>Latte</td>\n",
       "      <td>Medium</td>\n",
       "      <td>3.50</td>\n",
       "      <td>0.50</td>\n",
       "      <td>Card</td>\n",
       "      <td>08:15</td>\n",
       "      <td>0.2500</td>\n",
       "      <td>5</td>\n",
       "      <td>5</td>\n",
       "    </tr>\n",
       "    <tr>\n",
       "      <th>1</th>\n",
       "      <td>1002</td>\n",
       "      <td>Bob</td>\n",
       "      <td>Espresso</td>\n",
       "      <td>Small</td>\n",
       "      <td>2.00</td>\n",
       "      <td>0.00</td>\n",
       "      <td>Cash</td>\n",
       "      <td>09:00</td>\n",
       "      <td>0.0000</td>\n",
       "      <td>3</td>\n",
       "      <td>3</td>\n",
       "    </tr>\n",
       "    <tr>\n",
       "      <th>2</th>\n",
       "      <td>1003</td>\n",
       "      <td>Charlie</td>\n",
       "      <td>Cappuccino</td>\n",
       "      <td>Large</td>\n",
       "      <td>4.00</td>\n",
       "      <td>1.00</td>\n",
       "      <td>Card</td>\n",
       "      <td>08:45</td>\n",
       "      <td>1.0000</td>\n",
       "      <td>7</td>\n",
       "      <td>7</td>\n",
       "    </tr>\n",
       "    <tr>\n",
       "      <th>3</th>\n",
       "      <td>1004</td>\n",
       "      <td>Diana</td>\n",
       "      <td>Flat White</td>\n",
       "      <td>Medium</td>\n",
       "      <td>3.75</td>\n",
       "      <td>0.25</td>\n",
       "      <td>Card</td>\n",
       "      <td>10:30</td>\n",
       "      <td>0.0625</td>\n",
       "      <td>5</td>\n",
       "      <td>5</td>\n",
       "    </tr>\n",
       "    <tr>\n",
       "      <th>4</th>\n",
       "      <td>1005</td>\n",
       "      <td>Ethan</td>\n",
       "      <td>Americano</td>\n",
       "      <td>Large</td>\n",
       "      <td>3.25</td>\n",
       "      <td>0.75</td>\n",
       "      <td>Mobile</td>\n",
       "      <td>11:00</td>\n",
       "      <td>0.5625</td>\n",
       "      <td>5</td>\n",
       "      <td>5</td>\n",
       "    </tr>\n",
       "  </tbody>\n",
       "</table>\n",
       "</div>"
      ],
      "text/plain": [
       "   Order_ID Customer_Name       Drink    Size  Price   Tip Payment_Method  \\\n",
       "0      1001         Alice       Latte  Medium   3.50  0.50           Card   \n",
       "1      1002           Bob    Espresso   Small   2.00  0.00           Cash   \n",
       "2      1003       Charlie  Cappuccino   Large   4.00  1.00           Card   \n",
       "3      1004         Diana  Flat White  Medium   3.75  0.25           Card   \n",
       "4      1005         Ethan   Americano   Large   3.25  0.75         Mobile   \n",
       "\n",
       "  Order_Time  Tip_Squared  Custormer_chars_len  Customer_char_len  \n",
       "0      08:15       0.2500                    5                  5  \n",
       "1      09:00       0.0000                    3                  3  \n",
       "2      08:45       1.0000                    7                  7  \n",
       "3      10:30       0.0625                    5                  5  \n",
       "4      11:00       0.5625                    5                  5  "
      ]
     },
     "execution_count": 39,
     "metadata": {},
     "output_type": "execute_result"
    }
   ],
   "source": [
    "df_apply_map"
   ]
  },
  {
   "cell_type": "code",
   "execution_count": 41,
   "id": "ed3f2a8f",
   "metadata": {},
   "outputs": [
    {
     "name": "stdout",
     "output_type": "stream",
     "text": [
      "Sum of each row for columns Price and Tip (using apply on DataFrame axis=1):\n",
      "   Price   Tip  Total Price\n",
      "0   3.50  0.50          4.0\n",
      "1   2.00  0.00          2.0\n",
      "2   4.00  1.00          5.0\n",
      "3   3.75  0.25          4.0\n",
      "4   3.25  0.75          4.0\n",
      "\n",
      "\n"
     ]
    }
   ],
   "source": [
    "# --- apply() on a DataFrame ---\n",
    "# Example: Calculate the sum of 'A_nums' and 'B_nums' for each row (axis=1)\n",
    "df_apply_map['Total Price'] = df_apply_map[['Price', 'Tip']].apply(np.sum, axis=1)\n",
    "print(\"Sum of each row for columns Price and Tip (using apply on DataFrame axis=1):\")\n",
    "print(df_apply_map[['Price', 'Tip', 'Total Price']])\n",
    "print(\"\\n\")\n"
   ]
  },
  {
   "cell_type": "code",
   "execution_count": 42,
   "id": "e64b28e9",
   "metadata": {},
   "outputs": [
    {
     "name": "stdout",
     "output_type": "stream",
     "text": [
      "Mean of specified columns (using apply on DataFrame axis=0):\n",
      "Price          3.300\n",
      "Tip            0.500\n",
      "Tip_Squared    0.375\n",
      "dtype: float64\n",
      "\n",
      "--------------------------------------------------\n",
      "\n"
     ]
    }
   ],
   "source": [
    "\n",
    "# Example: Calculate the mean of each numerical column (axis=0)\n",
    "column_means = df_apply_map[['Price', 'Tip', 'Tip_Squared']].apply(np.mean, axis=0)\n",
    "print(\"Mean of specified columns (using apply on DataFrame axis=0):\")\n",
    "print(column_means)\n",
    "print(\"\\n\" + \"-\"*50 + \"\\n\")\n",
    "\n"
   ]
  },
  {
   "cell_type": "code",
   "execution_count": 43,
   "id": "b0ab904a",
   "metadata": {},
   "outputs": [
    {
     "data": {
      "text/html": [
       "<div>\n",
       "<style scoped>\n",
       "    .dataframe tbody tr th:only-of-type {\n",
       "        vertical-align: middle;\n",
       "    }\n",
       "\n",
       "    .dataframe tbody tr th {\n",
       "        vertical-align: top;\n",
       "    }\n",
       "\n",
       "    .dataframe thead th {\n",
       "        text-align: right;\n",
       "    }\n",
       "</style>\n",
       "<table border=\"1\" class=\"dataframe\">\n",
       "  <thead>\n",
       "    <tr style=\"text-align: right;\">\n",
       "      <th></th>\n",
       "      <th>Order_ID</th>\n",
       "      <th>Customer_Name</th>\n",
       "      <th>Drink</th>\n",
       "      <th>Size</th>\n",
       "      <th>Price</th>\n",
       "      <th>Tip</th>\n",
       "      <th>Payment_Method</th>\n",
       "      <th>Order_Time</th>\n",
       "      <th>Tip_Squared</th>\n",
       "      <th>Custormer_chars_len</th>\n",
       "      <th>Customer_char_len</th>\n",
       "      <th>Row_Sum</th>\n",
       "      <th>Total Price</th>\n",
       "    </tr>\n",
       "  </thead>\n",
       "  <tbody>\n",
       "    <tr>\n",
       "      <th>0</th>\n",
       "      <td>1001</td>\n",
       "      <td>Alice</td>\n",
       "      <td>Latte</td>\n",
       "      <td>Medium</td>\n",
       "      <td>3.50</td>\n",
       "      <td>0.50</td>\n",
       "      <td>Card</td>\n",
       "      <td>08:15</td>\n",
       "      <td>0.2500</td>\n",
       "      <td>5</td>\n",
       "      <td>5</td>\n",
       "      <td>4.0</td>\n",
       "      <td>4.0</td>\n",
       "    </tr>\n",
       "    <tr>\n",
       "      <th>1</th>\n",
       "      <td>1002</td>\n",
       "      <td>Bob</td>\n",
       "      <td>Espresso</td>\n",
       "      <td>Small</td>\n",
       "      <td>2.00</td>\n",
       "      <td>0.00</td>\n",
       "      <td>Cash</td>\n",
       "      <td>09:00</td>\n",
       "      <td>0.0000</td>\n",
       "      <td>3</td>\n",
       "      <td>3</td>\n",
       "      <td>2.0</td>\n",
       "      <td>2.0</td>\n",
       "    </tr>\n",
       "    <tr>\n",
       "      <th>2</th>\n",
       "      <td>1003</td>\n",
       "      <td>Charlie</td>\n",
       "      <td>Cappuccino</td>\n",
       "      <td>Large</td>\n",
       "      <td>4.00</td>\n",
       "      <td>1.00</td>\n",
       "      <td>Card</td>\n",
       "      <td>08:45</td>\n",
       "      <td>1.0000</td>\n",
       "      <td>7</td>\n",
       "      <td>7</td>\n",
       "      <td>5.0</td>\n",
       "      <td>5.0</td>\n",
       "    </tr>\n",
       "    <tr>\n",
       "      <th>3</th>\n",
       "      <td>1004</td>\n",
       "      <td>Diana</td>\n",
       "      <td>Flat White</td>\n",
       "      <td>Medium</td>\n",
       "      <td>3.75</td>\n",
       "      <td>0.25</td>\n",
       "      <td>Card</td>\n",
       "      <td>10:30</td>\n",
       "      <td>0.0625</td>\n",
       "      <td>5</td>\n",
       "      <td>5</td>\n",
       "      <td>4.0</td>\n",
       "      <td>4.0</td>\n",
       "    </tr>\n",
       "    <tr>\n",
       "      <th>4</th>\n",
       "      <td>1005</td>\n",
       "      <td>Ethan</td>\n",
       "      <td>Americano</td>\n",
       "      <td>Large</td>\n",
       "      <td>3.25</td>\n",
       "      <td>0.75</td>\n",
       "      <td>Mobile</td>\n",
       "      <td>11:00</td>\n",
       "      <td>0.5625</td>\n",
       "      <td>5</td>\n",
       "      <td>5</td>\n",
       "      <td>4.0</td>\n",
       "      <td>4.0</td>\n",
       "    </tr>\n",
       "  </tbody>\n",
       "</table>\n",
       "</div>"
      ],
      "text/plain": [
       "   Order_ID Customer_Name       Drink    Size  Price   Tip Payment_Method  \\\n",
       "0      1001         Alice       Latte  Medium   3.50  0.50           Card   \n",
       "1      1002           Bob    Espresso   Small   2.00  0.00           Cash   \n",
       "2      1003       Charlie  Cappuccino   Large   4.00  1.00           Card   \n",
       "3      1004         Diana  Flat White  Medium   3.75  0.25           Card   \n",
       "4      1005         Ethan   Americano   Large   3.25  0.75         Mobile   \n",
       "\n",
       "  Order_Time  Tip_Squared  Custormer_chars_len  Customer_char_len  Row_Sum  \\\n",
       "0      08:15       0.2500                    5                  5      4.0   \n",
       "1      09:00       0.0000                    3                  3      2.0   \n",
       "2      08:45       1.0000                    7                  7      5.0   \n",
       "3      10:30       0.0625                    5                  5      4.0   \n",
       "4      11:00       0.5625                    5                  5      4.0   \n",
       "\n",
       "   Total Price  \n",
       "0          4.0  \n",
       "1          2.0  \n",
       "2          5.0  \n",
       "3          4.0  \n",
       "4          4.0  "
      ]
     },
     "execution_count": 43,
     "metadata": {},
     "output_type": "execute_result"
    }
   ],
   "source": [
    "df_apply_map"
   ]
  },
  {
   "cell_type": "code",
   "execution_count": 44,
   "id": "b5bcfaf1",
   "metadata": {},
   "outputs": [
    {
     "name": "stdout",
     "output_type": "stream",
     "text": [
      "DataFrame with 'Size_Numerical' (using map on Series 'Size'):\n",
      "     Size  Size_Numerical\n",
      "0  Medium               2\n",
      "1   Small               1\n",
      "2   Large               3\n",
      "3  Medium               2\n",
      "4   Large               3\n",
      "\n",
      "\n"
     ]
    }
   ],
   "source": [
    "# --- map() on a Series ---\n",
    "# Example: Map 'C_category' strings to numerical values\n",
    "category_mapping = {'Small': 1, 'Medium': 2, 'Large': 3}\n",
    "df_apply_map['Size_Numerical'] = df_apply_map['Size'].map(category_mapping)\n",
    "print(\"DataFrame with 'Size_Numerical' (using map on Series 'Size'):\")\n",
    "print(df_apply_map[['Size', 'Size_Numerical']])\n",
    "print(\"\\n\")\n",
    "\n"
   ]
  },
  {
   "cell_type": "code",
   "execution_count": 46,
   "id": "73d5f3e3",
   "metadata": {},
   "outputs": [
    {
     "name": "stdout",
     "output_type": "stream",
     "text": [
      "DataFrame with 'New Tip' (using map with a lambda function):\n",
      "    Tip  New Tip\n",
      "0  0.50     3.97\n",
      "1  0.00     3.47\n",
      "2  1.00     4.47\n",
      "3  0.25     3.72\n",
      "4  0.75     4.22\n"
     ]
    }
   ],
   "source": [
    "# Example: Using map with a function (less common than apply for this, but possible)\n",
    "df_apply_map['New Tip'] = df_apply_map['Tip'].map(lambda x: x + 3.47)\n",
    "print(\"DataFrame with 'New Tip' (using map with a lambda function):\")\n",
    "print(df_apply_map[['Tip', 'New Tip']])"
   ]
  },
  {
   "cell_type": "code",
   "execution_count": 48,
   "id": "870e2741",
   "metadata": {},
   "outputs": [
    {
     "data": {
      "text/html": [
       "<div>\n",
       "<style scoped>\n",
       "    .dataframe tbody tr th:only-of-type {\n",
       "        vertical-align: middle;\n",
       "    }\n",
       "\n",
       "    .dataframe tbody tr th {\n",
       "        vertical-align: top;\n",
       "    }\n",
       "\n",
       "    .dataframe thead th {\n",
       "        text-align: right;\n",
       "    }\n",
       "</style>\n",
       "<table border=\"1\" class=\"dataframe\">\n",
       "  <thead>\n",
       "    <tr style=\"text-align: right;\">\n",
       "      <th></th>\n",
       "      <th>Order_ID</th>\n",
       "      <th>Customer_Name</th>\n",
       "      <th>Drink</th>\n",
       "      <th>Size</th>\n",
       "      <th>Price</th>\n",
       "      <th>Tip</th>\n",
       "      <th>Payment_Method</th>\n",
       "      <th>Order_Time</th>\n",
       "      <th>Tip_Squared</th>\n",
       "      <th>Custormer_chars_len</th>\n",
       "      <th>Customer_char_len</th>\n",
       "      <th>Row_Sum</th>\n",
       "      <th>Total Price</th>\n",
       "      <th>Size_Numerical</th>\n",
       "      <th>New Tip</th>\n",
       "    </tr>\n",
       "  </thead>\n",
       "  <tbody>\n",
       "    <tr>\n",
       "      <th>0</th>\n",
       "      <td>1001</td>\n",
       "      <td>Alice</td>\n",
       "      <td>Latte</td>\n",
       "      <td>Medium</td>\n",
       "      <td>3.50</td>\n",
       "      <td>0.50</td>\n",
       "      <td>Card</td>\n",
       "      <td>08:15</td>\n",
       "      <td>0.2500</td>\n",
       "      <td>5</td>\n",
       "      <td>5</td>\n",
       "      <td>4.0</td>\n",
       "      <td>4.0</td>\n",
       "      <td>2</td>\n",
       "      <td>3.97</td>\n",
       "    </tr>\n",
       "    <tr>\n",
       "      <th>1</th>\n",
       "      <td>1002</td>\n",
       "      <td>Bob</td>\n",
       "      <td>Espresso</td>\n",
       "      <td>Small</td>\n",
       "      <td>2.00</td>\n",
       "      <td>0.00</td>\n",
       "      <td>Cash</td>\n",
       "      <td>09:00</td>\n",
       "      <td>0.0000</td>\n",
       "      <td>3</td>\n",
       "      <td>3</td>\n",
       "      <td>2.0</td>\n",
       "      <td>2.0</td>\n",
       "      <td>1</td>\n",
       "      <td>3.47</td>\n",
       "    </tr>\n",
       "    <tr>\n",
       "      <th>2</th>\n",
       "      <td>1003</td>\n",
       "      <td>Charlie</td>\n",
       "      <td>Cappuccino</td>\n",
       "      <td>Large</td>\n",
       "      <td>4.00</td>\n",
       "      <td>1.00</td>\n",
       "      <td>Card</td>\n",
       "      <td>08:45</td>\n",
       "      <td>1.0000</td>\n",
       "      <td>7</td>\n",
       "      <td>7</td>\n",
       "      <td>5.0</td>\n",
       "      <td>5.0</td>\n",
       "      <td>3</td>\n",
       "      <td>4.47</td>\n",
       "    </tr>\n",
       "    <tr>\n",
       "      <th>3</th>\n",
       "      <td>1004</td>\n",
       "      <td>Diana</td>\n",
       "      <td>Flat White</td>\n",
       "      <td>Medium</td>\n",
       "      <td>3.75</td>\n",
       "      <td>0.25</td>\n",
       "      <td>Card</td>\n",
       "      <td>10:30</td>\n",
       "      <td>0.0625</td>\n",
       "      <td>5</td>\n",
       "      <td>5</td>\n",
       "      <td>4.0</td>\n",
       "      <td>4.0</td>\n",
       "      <td>2</td>\n",
       "      <td>3.72</td>\n",
       "    </tr>\n",
       "    <tr>\n",
       "      <th>4</th>\n",
       "      <td>1005</td>\n",
       "      <td>Ethan</td>\n",
       "      <td>Americano</td>\n",
       "      <td>Large</td>\n",
       "      <td>3.25</td>\n",
       "      <td>0.75</td>\n",
       "      <td>Mobile</td>\n",
       "      <td>11:00</td>\n",
       "      <td>0.5625</td>\n",
       "      <td>5</td>\n",
       "      <td>5</td>\n",
       "      <td>4.0</td>\n",
       "      <td>4.0</td>\n",
       "      <td>3</td>\n",
       "      <td>4.22</td>\n",
       "    </tr>\n",
       "  </tbody>\n",
       "</table>\n",
       "</div>"
      ],
      "text/plain": [
       "   Order_ID Customer_Name       Drink    Size  Price   Tip Payment_Method  \\\n",
       "0      1001         Alice       Latte  Medium   3.50  0.50           Card   \n",
       "1      1002           Bob    Espresso   Small   2.00  0.00           Cash   \n",
       "2      1003       Charlie  Cappuccino   Large   4.00  1.00           Card   \n",
       "3      1004         Diana  Flat White  Medium   3.75  0.25           Card   \n",
       "4      1005         Ethan   Americano   Large   3.25  0.75         Mobile   \n",
       "\n",
       "  Order_Time  Tip_Squared  Custormer_chars_len  Customer_char_len  Row_Sum  \\\n",
       "0      08:15       0.2500                    5                  5      4.0   \n",
       "1      09:00       0.0000                    3                  3      2.0   \n",
       "2      08:45       1.0000                    7                  7      5.0   \n",
       "3      10:30       0.0625                    5                  5      4.0   \n",
       "4      11:00       0.5625                    5                  5      4.0   \n",
       "\n",
       "   Total Price  Size_Numerical  New Tip  \n",
       "0          4.0               2     3.97  \n",
       "1          2.0               1     3.47  \n",
       "2          5.0               3     4.47  \n",
       "3          4.0               2     3.72  \n",
       "4          4.0               3     4.22  "
      ]
     },
     "execution_count": 48,
     "metadata": {},
     "output_type": "execute_result"
    }
   ],
   "source": [
    "df_apply_map"
   ]
  },
  {
   "cell_type": "markdown",
   "metadata": {},
   "source": [
    "### ✏️ Try it Yourself! - Section 10\n",
    "\n",
    "Using `df_apply_map`:\n",
    "1.  Using the map funciton convert all the Drinks into Lower Case .\n",
    "2.  Try to undertand the axis = 0 and axis = 1 operation using the apply. "
   ]
  },
  {
   "cell_type": "markdown",
   "metadata": {},
   "source": [
    "## 11. `groupby()` and Joins\n",
    "\n",
    "* `groupby()`: Involves splitting the data into groups based on some criteria, applying a function (aggregation, transformation, filtration) to each group independently, and then combining the results into a data structure.\n",
    "* Joins (e.g., `pd.merge()`): Combine DataFrames based on common columns or indices, similar to SQL joins."
   ]
  },
  {
   "cell_type": "code",
   "execution_count": 56,
   "metadata": {},
   "outputs": [
    {
     "name": "stdout",
     "output_type": "stream",
     "text": [
      "Original DataFrame for groupby operations:\n"
     ]
    },
    {
     "data": {
      "text/html": [
       "<div>\n",
       "<style scoped>\n",
       "    .dataframe tbody tr th:only-of-type {\n",
       "        vertical-align: middle;\n",
       "    }\n",
       "\n",
       "    .dataframe tbody tr th {\n",
       "        vertical-align: top;\n",
       "    }\n",
       "\n",
       "    .dataframe thead th {\n",
       "        text-align: right;\n",
       "    }\n",
       "</style>\n",
       "<table border=\"1\" class=\"dataframe\">\n",
       "  <thead>\n",
       "    <tr style=\"text-align: right;\">\n",
       "      <th></th>\n",
       "      <th>Department</th>\n",
       "      <th>Employee</th>\n",
       "      <th>Salary</th>\n",
       "      <th>Projects</th>\n",
       "    </tr>\n",
       "  </thead>\n",
       "  <tbody>\n",
       "    <tr>\n",
       "      <th>0</th>\n",
       "      <td>HR</td>\n",
       "      <td>Alice</td>\n",
       "      <td>70000</td>\n",
       "      <td>3</td>\n",
       "    </tr>\n",
       "    <tr>\n",
       "      <th>1</th>\n",
       "      <td>Tech</td>\n",
       "      <td>Bob</td>\n",
       "      <td>80000</td>\n",
       "      <td>5</td>\n",
       "    </tr>\n",
       "    <tr>\n",
       "      <th>2</th>\n",
       "      <td>HR</td>\n",
       "      <td>Charlie</td>\n",
       "      <td>65000</td>\n",
       "      <td>2</td>\n",
       "    </tr>\n",
       "    <tr>\n",
       "      <th>3</th>\n",
       "      <td>Tech</td>\n",
       "      <td>David</td>\n",
       "      <td>95000</td>\n",
       "      <td>6</td>\n",
       "    </tr>\n",
       "    <tr>\n",
       "      <th>4</th>\n",
       "      <td>Marketing</td>\n",
       "      <td>Eve</td>\n",
       "      <td>75000</td>\n",
       "      <td>4</td>\n",
       "    </tr>\n",
       "    <tr>\n",
       "      <th>5</th>\n",
       "      <td>Tech</td>\n",
       "      <td>Frank</td>\n",
       "      <td>82000</td>\n",
       "      <td>4</td>\n",
       "    </tr>\n",
       "    <tr>\n",
       "      <th>6</th>\n",
       "      <td>Marketing</td>\n",
       "      <td>Grace</td>\n",
       "      <td>72000</td>\n",
       "      <td>3</td>\n",
       "    </tr>\n",
       "    <tr>\n",
       "      <th>7</th>\n",
       "      <td>Sales</td>\n",
       "      <td>Hannah</td>\n",
       "      <td>68000</td>\n",
       "      <td>2</td>\n",
       "    </tr>\n",
       "    <tr>\n",
       "      <th>8</th>\n",
       "      <td>HR</td>\n",
       "      <td>Ian</td>\n",
       "      <td>62000</td>\n",
       "      <td>1</td>\n",
       "    </tr>\n",
       "    <tr>\n",
       "      <th>9</th>\n",
       "      <td>Tech</td>\n",
       "      <td>Jack</td>\n",
       "      <td>87000</td>\n",
       "      <td>5</td>\n",
       "    </tr>\n",
       "    <tr>\n",
       "      <th>10</th>\n",
       "      <td>Sales</td>\n",
       "      <td>Karen</td>\n",
       "      <td>66000</td>\n",
       "      <td>3</td>\n",
       "    </tr>\n",
       "    <tr>\n",
       "      <th>11</th>\n",
       "      <td>Marketing</td>\n",
       "      <td>Laura</td>\n",
       "      <td>73000</td>\n",
       "      <td>4</td>\n",
       "    </tr>\n",
       "    <tr>\n",
       "      <th>12</th>\n",
       "      <td>HR</td>\n",
       "      <td>Mike</td>\n",
       "      <td>64000</td>\n",
       "      <td>2</td>\n",
       "    </tr>\n",
       "    <tr>\n",
       "      <th>13</th>\n",
       "      <td>Tech</td>\n",
       "      <td>Nina</td>\n",
       "      <td>90000</td>\n",
       "      <td>5</td>\n",
       "    </tr>\n",
       "    <tr>\n",
       "      <th>14</th>\n",
       "      <td>Sales</td>\n",
       "      <td>Oscar</td>\n",
       "      <td>69000</td>\n",
       "      <td>2</td>\n",
       "    </tr>\n",
       "  </tbody>\n",
       "</table>\n",
       "</div>"
      ],
      "text/plain": [
       "   Department Employee  Salary  Projects\n",
       "0          HR    Alice   70000         3\n",
       "1        Tech      Bob   80000         5\n",
       "2          HR  Charlie   65000         2\n",
       "3        Tech    David   95000         6\n",
       "4   Marketing      Eve   75000         4\n",
       "5        Tech    Frank   82000         4\n",
       "6   Marketing    Grace   72000         3\n",
       "7       Sales   Hannah   68000         2\n",
       "8          HR      Ian   62000         1\n",
       "9        Tech     Jack   87000         5\n",
       "10      Sales    Karen   66000         3\n",
       "11  Marketing    Laura   73000         4\n",
       "12         HR     Mike   64000         2\n",
       "13       Tech     Nina   90000         5\n",
       "14      Sales    Oscar   69000         2"
      ]
     },
     "execution_count": 56,
     "metadata": {},
     "output_type": "execute_result"
    }
   ],
   "source": [
    "# --- groupby() ---\n",
    "data_groupby = {\n",
    "    'Department': [\n",
    "        'HR', 'Tech', 'HR', 'Tech', 'Marketing', 'Tech', 'Marketing',\n",
    "        'Sales', 'HR', 'Tech', 'Sales', 'Marketing', 'HR', 'Tech', 'Sales'\n",
    "    ],\n",
    "    'Employee': [\n",
    "        'Alice', 'Bob', 'Charlie', 'David', 'Eve', 'Frank', 'Grace',\n",
    "        'Hannah', 'Ian', 'Jack', 'Karen', 'Laura', 'Mike', 'Nina', 'Oscar'\n",
    "    ],\n",
    "    'Salary': [\n",
    "        70000, 80000, 65000, 95000, 75000, 82000, 72000,\n",
    "        68000, 62000, 87000, 66000, 73000, 64000, 90000, 69000\n",
    "    ],\n",
    "    'Projects': [\n",
    "        3, 5, 2, 6, 4, 4, 3,\n",
    "        2, 1, 5, 3, 4, 2, 5, 2\n",
    "    ]\n",
    "}\n",
    "\n",
    "df_groupby_ops = pd.DataFrame(data_groupby)\n",
    "print(\"Original DataFrame for groupby operations:\")\n",
    "df_groupby_ops\n"
   ]
  },
  {
   "cell_type": "code",
   "execution_count": 57,
   "id": "d926de7c",
   "metadata": {},
   "outputs": [
    {
     "name": "stdout",
     "output_type": "stream",
     "text": [
      "Mean salary per department:\n",
      "Department\n",
      "HR           65250.000000\n",
      "Marketing    73333.333333\n",
      "Sales        67666.666667\n",
      "Tech         86800.000000\n",
      "Name: Salary, dtype: float64\n",
      "\n",
      "\n"
     ]
    }
   ],
   "source": [
    "\n",
    "# Group by 'Department' and calculate the mean salary for each\n",
    "mean_salary_by_dept = df_groupby_ops.groupby('Department')['Salary'].mean()\n",
    "print(\"Mean salary per department:\")\n",
    "print(mean_salary_by_dept)\n",
    "print(\"\\n\")\n"
   ]
  },
  {
   "cell_type": "code",
   "execution_count": 58,
   "id": "25baaa4f",
   "metadata": {},
   "outputs": [
    {
     "name": "stdout",
     "output_type": "stream",
     "text": [
      "Aggregated stats per department (mean salary, total projects, num_employees):\n",
      "  Department   mean_salary  total_projects  num_employees\n",
      "0         HR  65250.000000               8              4\n",
      "1  Marketing  73333.333333              11              3\n",
      "2      Sales  67666.666667               7              3\n",
      "3       Tech  86800.000000              25              5\n",
      "\n",
      "--------------------------------------------------\n",
      "\n"
     ]
    }
   ],
   "source": [
    "\n",
    "# Group by 'Department' and calculate multiple aggregations\n",
    "agg_stats_by_dept = df_groupby_ops.groupby('Department').agg(\n",
    "    mean_salary=('Salary', 'mean'),\n",
    "    total_projects=('Projects', 'sum'),\n",
    "    num_employees=('Employee', 'count')\n",
    ").reset_index() # reset_index() converts the grouped output back to a DataFrame\n",
    "print(\"Aggregated stats per department (mean salary, total projects, num_employees):\")\n",
    "print(agg_stats_by_dept)\n",
    "print(\"\\n\" + \"-\"*50 + \"\\n\")\n",
    "\n"
   ]
  },
  {
   "cell_type": "code",
   "execution_count": 50,
   "id": "09a3b206",
   "metadata": {},
   "outputs": [
    {
     "name": "stdout",
     "output_type": "stream",
     "text": [
      "Employees DataFrame:\n",
      "  emp_id     name dept_id\n",
      "0     E1    Alice      D1\n",
      "1     E2      Bob      D2\n",
      "2     E3  Charlie      D1\n",
      "3     E4    Diana      D3\n",
      "4     E5   Edward      D2\n",
      "5     E6    Fiona      D4\n",
      "6     E7   George      D5\n",
      "7     E8   Hannah      D6\n",
      "\n",
      "Departments DataFrame:\n",
      "  dept_id   dept_name\n",
      "0      D1          HR\n",
      "1      D2  Technology\n",
      "2      D3   Marketing\n",
      "3      D4     Finance\n",
      "4      D7       Legal\n",
      "\n",
      "--------------------------------------------------\n",
      "\n"
     ]
    }
   ],
   "source": [
    "# --- Joins (using pd.merge()) ---\n",
    "df_employees = pd.DataFrame({\n",
    "    'emp_id': ['E1', 'E2', 'E3', 'E4', 'E5', 'E6', 'E7', 'E8'],\n",
    "    'name': ['Alice', 'Bob', 'Charlie', 'Diana', 'Edward', 'Fiona', 'George', 'Hannah'],\n",
    "    'dept_id': ['D1', 'D2', 'D1', 'D3', 'D2', 'D4', 'D5', 'D6']\n",
    "})\n",
    "\n",
    "df_departments = pd.DataFrame({\n",
    "    'dept_id': ['D1', 'D2', 'D3', 'D4', 'D7'],\n",
    "    'dept_name': ['HR', 'Technology', 'Marketing', 'Finance', 'Legal']\n",
    "})\n",
    "\n",
    "print(\"Employees DataFrame:\")\n",
    "print(df_employees)\n",
    "print(\"\\nDepartments DataFrame:\")\n",
    "print(df_departments)\n",
    "print(\"\\n\" + \"-\"*50 + \"\\n\")\n"
   ]
  },
  {
   "cell_type": "markdown",
   "id": "2ede2544",
   "metadata": {},
   "source": [
    "<img src=\"assets/joins in sql.png\" alt=\"Joins in SQL\" width=\"500\"/>"
   ]
  },
  {
   "cell_type": "code",
   "execution_count": 51,
   "id": "a5d53f24",
   "metadata": {},
   "outputs": [
    {
     "name": "stdout",
     "output_type": "stream",
     "text": [
      "Inner join on 'dept_id':\n",
      "  emp_id     name dept_id   dept_name\n",
      "0     E1    Alice      D1          HR\n",
      "1     E2      Bob      D2  Technology\n",
      "2     E3  Charlie      D1          HR\n",
      "3     E4    Diana      D3   Marketing\n",
      "4     E5   Edward      D2  Technology\n",
      "5     E6    Fiona      D4     Finance\n",
      "\n",
      "\n"
     ]
    }
   ],
   "source": [
    "\n",
    "# Inner join: Keeps only matching keys from both DataFrames\n",
    "inner_join_df = pd.merge(df_employees, df_departments, on='dept_id', how='inner')\n",
    "print(\"Inner join on 'dept_id':\")\n",
    "print(inner_join_df)\n",
    "print(\"\\n\")\n"
   ]
  },
  {
   "cell_type": "code",
   "execution_count": 52,
   "id": "5a1b72ad",
   "metadata": {},
   "outputs": [
    {
     "name": "stdout",
     "output_type": "stream",
     "text": [
      "Left join on 'dept_id':\n",
      "  emp_id     name dept_id   dept_name\n",
      "0     E1    Alice      D1          HR\n",
      "1     E2      Bob      D2  Technology\n",
      "2     E3  Charlie      D1          HR\n",
      "3     E4    Diana      D3   Marketing\n",
      "4     E5   Edward      D2  Technology\n",
      "5     E6    Fiona      D4     Finance\n",
      "6     E7   George      D5         NaN\n",
      "7     E8   Hannah      D6         NaN\n",
      "\n",
      "\n"
     ]
    }
   ],
   "source": [
    "\n",
    "# Left join: Keeps all keys from the left DataFrame (df_employees) and matching from right\n",
    "left_join_df = pd.merge(df_employees, df_departments, on='dept_id', how='left')\n",
    "print(\"Left join on 'dept_id':\")\n",
    "print(left_join_df)\n",
    "print(\"\\n\")\n"
   ]
  },
  {
   "cell_type": "code",
   "execution_count": 53,
   "id": "cc61d351",
   "metadata": {},
   "outputs": [
    {
     "name": "stdout",
     "output_type": "stream",
     "text": [
      "Right join on 'dept_id':\n",
      "  emp_id     name dept_id   dept_name\n",
      "0     E1    Alice      D1          HR\n",
      "1     E3  Charlie      D1          HR\n",
      "2     E2      Bob      D2  Technology\n",
      "3     E5   Edward      D2  Technology\n",
      "4     E4    Diana      D3   Marketing\n",
      "5     E6    Fiona      D4     Finance\n",
      "6    NaN      NaN      D7       Legal\n",
      "\n",
      "\n"
     ]
    }
   ],
   "source": [
    "\n",
    "# Right join: Keeps all keys from the right DataFrame (df_departments) and matching from left\n",
    "right_join_df = pd.merge(df_employees, df_departments, on='dept_id', how='right')\n",
    "print(\"Right join on 'dept_id':\")\n",
    "print(right_join_df)\n",
    "print(\"\\n\")\n",
    "\n"
   ]
  },
  {
   "cell_type": "code",
   "execution_count": 54,
   "id": "c4ec5812",
   "metadata": {},
   "outputs": [
    {
     "name": "stdout",
     "output_type": "stream",
     "text": [
      "Outer join on 'dept_id':\n",
      "  emp_id     name dept_id   dept_name\n",
      "0     E1    Alice      D1          HR\n",
      "1     E3  Charlie      D1          HR\n",
      "2     E2      Bob      D2  Technology\n",
      "3     E5   Edward      D2  Technology\n",
      "4     E4    Diana      D3   Marketing\n",
      "5     E6    Fiona      D4     Finance\n",
      "6     E7   George      D5         NaN\n",
      "7     E8   Hannah      D6         NaN\n",
      "8    NaN      NaN      D7       Legal\n"
     ]
    }
   ],
   "source": [
    "# Outer join: Keeps all keys from both DataFrames\n",
    "outer_join_df = pd.merge(df_employees, df_departments, on='dept_id', how='outer')\n",
    "print(\"Outer join on 'dept_id':\")\n",
    "print(outer_join_df)"
   ]
  },
  {
   "cell_type": "code",
   "execution_count": null,
   "id": "154ea9ac",
   "metadata": {},
   "outputs": [],
   "source": []
  },
  {
   "cell_type": "code",
   "execution_count": null,
   "id": "eb22869d",
   "metadata": {},
   "outputs": [],
   "source": []
  },
  {
   "cell_type": "code",
   "execution_count": null,
   "id": "c9c7474f",
   "metadata": {},
   "outputs": [],
   "source": []
  },
  {
   "cell_type": "code",
   "execution_count": null,
   "id": "6bec4fc2",
   "metadata": {},
   "outputs": [],
   "source": []
  },
  {
   "cell_type": "markdown",
   "metadata": {},
   "source": [
    "### ✏️ Try it Yourself! - Section 11\n",
    "\n",
    "Using `df_groupby_ops`:\n",
    "1.  Group by 'Department' and find the maximum 'Salary' and the minimum 'Projects' for each department.\n",
    "2.  For each 'Department', list all employee names. (Hint: `agg` with a lambda function or a specific string function like `'list'` or `'unique'`).\n",
    "\n",
    "For Joins:\n",
    "1.  Create two new DataFrames:\n",
    "    ```python\n",
    "    df_orders = pd.DataFrame({'order_id': ['O101', 'O102', 'O103', 'O104'], 'customer_id': ['C1', 'C2', 'C1', 'C3'], 'amount': [100, 150, 50, 200]})\n",
    "    df_customers = pd.DataFrame({'customer_id': ['C1', 'C2', 'C4'], 'customer_name': ['John Doe', 'Jane Smith', 'Peter Pan']})\n",
    "    ```\n",
    "2.  Perform an inner join between `df_orders` and `df_customers` on `customer_id`.\n",
    "3.  Perform a left join where `df_orders` is the left table.\n",
    "4.  Perform an outer join. What does this tell you about customers who haven't placed orders or orders with unknown customers?"
   ]
  },
  {
   "cell_type": "markdown",
   "metadata": {},
   "source": [
    "## 12. Working with Datetime\n",
    "\n",
    "Pandas has excellent built-in capabilities for handling time series data. The `pd.to_datetime()` function converts argument to datetime, and the `.dt` accessor provides access to datetime properties (like year, month, day, weekday)."
   ]
  },
  {
   "cell_type": "code",
   "execution_count": 60,
   "metadata": {},
   "outputs": [
    {
     "name": "stdout",
     "output_type": "stream",
     "text": [
      "DataFrame with parsed datetime column:\n"
     ]
    },
    {
     "data": {
      "text/html": [
       "<div>\n",
       "<style scoped>\n",
       "    .dataframe tbody tr th:only-of-type {\n",
       "        vertical-align: middle;\n",
       "    }\n",
       "\n",
       "    .dataframe tbody tr th {\n",
       "        vertical-align: top;\n",
       "    }\n",
       "\n",
       "    .dataframe thead th {\n",
       "        text-align: right;\n",
       "    }\n",
       "</style>\n",
       "<table border=\"1\" class=\"dataframe\">\n",
       "  <thead>\n",
       "    <tr style=\"text-align: right;\">\n",
       "      <th></th>\n",
       "      <th>raw_date_str</th>\n",
       "      <th>event_value</th>\n",
       "      <th>parsed_date</th>\n",
       "    </tr>\n",
       "  </thead>\n",
       "  <tbody>\n",
       "    <tr>\n",
       "      <th>0</th>\n",
       "      <td>2024-01-15</td>\n",
       "      <td>42</td>\n",
       "      <td>2024-01-15</td>\n",
       "    </tr>\n",
       "    <tr>\n",
       "      <th>1</th>\n",
       "      <td>February 10, 2024 10:30</td>\n",
       "      <td>97</td>\n",
       "      <td>NaT</td>\n",
       "    </tr>\n",
       "    <tr>\n",
       "      <th>2</th>\n",
       "      <td>03/05/2024</td>\n",
       "      <td>58</td>\n",
       "      <td>NaT</td>\n",
       "    </tr>\n",
       "    <tr>\n",
       "      <th>3</th>\n",
       "      <td>20.04.2024</td>\n",
       "      <td>31</td>\n",
       "      <td>NaT</td>\n",
       "    </tr>\n",
       "    <tr>\n",
       "      <th>4</th>\n",
       "      <td>2024/04/25</td>\n",
       "      <td>57</td>\n",
       "      <td>NaT</td>\n",
       "    </tr>\n",
       "    <tr>\n",
       "      <th>5</th>\n",
       "      <td>15-03-24</td>\n",
       "      <td>51</td>\n",
       "      <td>NaT</td>\n",
       "    </tr>\n",
       "    <tr>\n",
       "      <th>6</th>\n",
       "      <td>April 1st, 2024</td>\n",
       "      <td>23</td>\n",
       "      <td>NaT</td>\n",
       "    </tr>\n",
       "    <tr>\n",
       "      <th>7</th>\n",
       "      <td>2024-05-12T08:00:00Z</td>\n",
       "      <td>80</td>\n",
       "      <td>NaT</td>\n",
       "    </tr>\n",
       "    <tr>\n",
       "      <th>8</th>\n",
       "      <td></td>\n",
       "      <td>40</td>\n",
       "      <td>NaT</td>\n",
       "    </tr>\n",
       "    <tr>\n",
       "      <th>9</th>\n",
       "      <td>Not a date</td>\n",
       "      <td>71</td>\n",
       "      <td>NaT</td>\n",
       "    </tr>\n",
       "  </tbody>\n",
       "</table>\n",
       "</div>"
      ],
      "text/plain": [
       "              raw_date_str  event_value parsed_date\n",
       "0               2024-01-15           42  2024-01-15\n",
       "1  February 10, 2024 10:30           97         NaT\n",
       "2               03/05/2024           58         NaT\n",
       "3               20.04.2024           31         NaT\n",
       "4               2024/04/25           57         NaT\n",
       "5                 15-03-24           51         NaT\n",
       "6          April 1st, 2024           23         NaT\n",
       "7     2024-05-12T08:00:00Z           80         NaT\n",
       "8                                    40         NaT\n",
       "9               Not a date           71         NaT"
      ]
     },
     "execution_count": 60,
     "metadata": {},
     "output_type": "execute_result"
    }
   ],
   "source": [
    "date_strings = [\n",
    "    '2024-01-15',              # ISO format\n",
    "    'February 10, 2024 10:30', # Natural language format\n",
    "    '03/05/2024',              # MM/DD/YYYY (U.S.)\n",
    "    '20.04.2024',              # DD.MM.YYYY (European)\n",
    "    '2024/04/25',              # YYYY/MM/DD\n",
    "    '15-03-24',                # DD-MM-YY\n",
    "    'April 1st, 2024',         # Informal written format\n",
    "    '2024-05-12T08:00:00Z',    # ISO 8601 with time and UTC\n",
    "    '',                        # Empty value\n",
    "    'Not a date'              # Invalid string\n",
    "]\n",
    "\n",
    "# Random event values\n",
    "df_datetime = pd.DataFrame({\n",
    "    'raw_date_str': date_strings,\n",
    "    'event_value': np.random.randint(10, 100, size=len(date_strings))\n",
    "})\n",
    "# Convert 'raw_date_str' to datetime objects\n",
    "# errors='coerce' will turn unparseable date strings into NaT (Not a Time)\n",
    "df_datetime['parsed_date'] = pd.to_datetime(df_datetime['raw_date_str'], errors='coerce')\n",
    "print(\"DataFrame with parsed datetime column:\")\n",
    "df_datetime\n"
   ]
  },
  {
   "cell_type": "code",
   "execution_count": 61,
   "id": "4a93087d",
   "metadata": {},
   "outputs": [],
   "source": [
    "from dateutil import parser\n",
    "\n",
    "def try_parse_date(date_str):\n",
    "    try:\n",
    "        return parser.parse(date_str, dayfirst=True)\n",
    "    except:\n",
    "        return pd.NaT"
   ]
  },
  {
   "cell_type": "code",
   "execution_count": 66,
   "id": "a5683731",
   "metadata": {},
   "outputs": [],
   "source": [
    "# Apply custom parser\n",
    "df_datetime['parsed_date'] = df_datetime['raw_date_str'].apply(try_parse_date)\n",
    "df_datetime['parsed_date'] = pd.to_datetime(df_datetime['parsed_date'], errors='coerce')\n"
   ]
  },
  {
   "cell_type": "code",
   "execution_count": 67,
   "id": "6ebc4809",
   "metadata": {},
   "outputs": [
    {
     "data": {
      "text/html": [
       "<div>\n",
       "<style scoped>\n",
       "    .dataframe tbody tr th:only-of-type {\n",
       "        vertical-align: middle;\n",
       "    }\n",
       "\n",
       "    .dataframe tbody tr th {\n",
       "        vertical-align: top;\n",
       "    }\n",
       "\n",
       "    .dataframe thead th {\n",
       "        text-align: right;\n",
       "    }\n",
       "</style>\n",
       "<table border=\"1\" class=\"dataframe\">\n",
       "  <thead>\n",
       "    <tr style=\"text-align: right;\">\n",
       "      <th></th>\n",
       "      <th>raw_date_str</th>\n",
       "      <th>event_value</th>\n",
       "      <th>parsed_date</th>\n",
       "    </tr>\n",
       "  </thead>\n",
       "  <tbody>\n",
       "    <tr>\n",
       "      <th>0</th>\n",
       "      <td>2024-01-15</td>\n",
       "      <td>42</td>\n",
       "      <td>2024-01-15 00:00:00</td>\n",
       "    </tr>\n",
       "    <tr>\n",
       "      <th>1</th>\n",
       "      <td>February 10, 2024 10:30</td>\n",
       "      <td>97</td>\n",
       "      <td>2024-02-10 10:30:00</td>\n",
       "    </tr>\n",
       "    <tr>\n",
       "      <th>2</th>\n",
       "      <td>03/05/2024</td>\n",
       "      <td>58</td>\n",
       "      <td>2024-05-03 00:00:00</td>\n",
       "    </tr>\n",
       "    <tr>\n",
       "      <th>3</th>\n",
       "      <td>20.04.2024</td>\n",
       "      <td>31</td>\n",
       "      <td>2024-04-20 00:00:00</td>\n",
       "    </tr>\n",
       "    <tr>\n",
       "      <th>4</th>\n",
       "      <td>2024/04/25</td>\n",
       "      <td>57</td>\n",
       "      <td>2024-04-25 00:00:00</td>\n",
       "    </tr>\n",
       "    <tr>\n",
       "      <th>5</th>\n",
       "      <td>15-03-24</td>\n",
       "      <td>51</td>\n",
       "      <td>2024-03-15 00:00:00</td>\n",
       "    </tr>\n",
       "    <tr>\n",
       "      <th>6</th>\n",
       "      <td>April 1st, 2024</td>\n",
       "      <td>23</td>\n",
       "      <td>2024-04-01 00:00:00</td>\n",
       "    </tr>\n",
       "    <tr>\n",
       "      <th>7</th>\n",
       "      <td>2024-05-12T08:00:00Z</td>\n",
       "      <td>80</td>\n",
       "      <td>NaT</td>\n",
       "    </tr>\n",
       "    <tr>\n",
       "      <th>8</th>\n",
       "      <td></td>\n",
       "      <td>40</td>\n",
       "      <td>NaT</td>\n",
       "    </tr>\n",
       "    <tr>\n",
       "      <th>9</th>\n",
       "      <td>Not a date</td>\n",
       "      <td>71</td>\n",
       "      <td>NaT</td>\n",
       "    </tr>\n",
       "  </tbody>\n",
       "</table>\n",
       "</div>"
      ],
      "text/plain": [
       "              raw_date_str  event_value         parsed_date\n",
       "0               2024-01-15           42 2024-01-15 00:00:00\n",
       "1  February 10, 2024 10:30           97 2024-02-10 10:30:00\n",
       "2               03/05/2024           58 2024-05-03 00:00:00\n",
       "3               20.04.2024           31 2024-04-20 00:00:00\n",
       "4               2024/04/25           57 2024-04-25 00:00:00\n",
       "5                 15-03-24           51 2024-03-15 00:00:00\n",
       "6          April 1st, 2024           23 2024-04-01 00:00:00\n",
       "7     2024-05-12T08:00:00Z           80                 NaT\n",
       "8                                    40                 NaT\n",
       "9               Not a date           71                 NaT"
      ]
     },
     "execution_count": 67,
     "metadata": {},
     "output_type": "execute_result"
    }
   ],
   "source": [
    "df_datetime"
   ]
  },
  {
   "cell_type": "code",
   "execution_count": 68,
   "id": "7cace93f",
   "metadata": {},
   "outputs": [
    {
     "name": "stdout",
     "output_type": "stream",
     "text": [
      "DataFrame with extracted datetime components:\n",
      "              raw_date_str         parsed_date  year  month  day  hour  \\\n",
      "0               2024-01-15 2024-01-15 00:00:00  2024      1   15     0   \n",
      "1  February 10, 2024 10:30 2024-02-10 10:30:00  2024      2   10    10   \n",
      "2               03/05/2024 2024-05-03 00:00:00  2024      5    3     0   \n",
      "3               20.04.2024 2024-04-20 00:00:00  2024      4   20     0   \n",
      "4               2024/04/25 2024-04-25 00:00:00  2024      4   25     0   \n",
      "5                 15-03-24 2024-03-15 00:00:00  2024      3   15     0   \n",
      "6          April 1st, 2024 2024-04-01 00:00:00  2024      4    1     0   \n",
      "\n",
      "  weekday_name  day_of_year  week_of_year  \n",
      "0       Monday           15             3  \n",
      "1     Saturday           41             6  \n",
      "2       Friday          124            18  \n",
      "3     Saturday          111            16  \n",
      "4     Thursday          116            17  \n",
      "5       Friday           75            11  \n",
      "6       Monday           92            14  \n"
     ]
    }
   ],
   "source": [
    "# Drop NaT rows for datetime operations\n",
    "df_dt_components = df_datetime.dropna(subset=['parsed_date']).copy()\n",
    "\n",
    "# Check it's not empty\n",
    "if not df_dt_components.empty:\n",
    "    df_dt_components['year'] = df_dt_components['parsed_date'].dt.year\n",
    "    df_dt_components['month'] = df_dt_components['parsed_date'].dt.month\n",
    "    df_dt_components['day'] = df_dt_components['parsed_date'].dt.day\n",
    "    df_dt_components['hour'] = df_dt_components['parsed_date'].dt.hour\n",
    "    df_dt_components['weekday_name'] = df_dt_components['parsed_date'].dt.day_name()\n",
    "    df_dt_components['day_of_year'] = df_dt_components['parsed_date'].dt.dayofyear\n",
    "    \n",
    "    # Handle week_of_year safely\n",
    "    df_dt_components['week_of_year'] = df_dt_components['parsed_date'].dt.isocalendar().week.values\n",
    "\n",
    "    # Show results\n",
    "    print(\"DataFrame with extracted datetime components:\")\n",
    "    print(df_dt_components[['raw_date_str', 'parsed_date', 'year', 'month', 'day', 'hour', 'weekday_name', 'day_of_year', 'week_of_year']])\n",
    "else:\n",
    "    print(\"DataFrame is empty after dropping NaT values from 'parsed_date'. Cannot extract components.\")"
   ]
  },
  {
   "cell_type": "code",
   "execution_count": null,
   "id": "5252d2e7",
   "metadata": {},
   "outputs": [],
   "source": []
  },
  {
   "cell_type": "code",
   "execution_count": null,
   "id": "a8217d20",
   "metadata": {},
   "outputs": [],
   "source": []
  },
  {
   "cell_type": "markdown",
   "metadata": {},
   "source": [
    "### ✏️ Try it Yourself! - Section 12\n",
    "\n",
    "Using `df_dt_components` (assuming it's not empty after dropping NaT):\n",
    "1.  Create a new column 'is_weekend' which is `True` if the `weekday_name` is Saturday or Sunday, and `False` otherwise.\n",
    "2.  Create a new column 'date_plus_7_days' by adding 7 days to each date in `parsed_date`. (Hint: `pd.Timedelta`).\n",
    "3.  Convert the 'parsed_date' column to strings formatted as 'YYYY/MM/DD'. (Hint: `.dt.strftime('%Y/%m/%d')`)."
   ]
  },
  {
   "cell_type": "markdown",
   "metadata": {},
   "source": [
    "## 13. Pivoting and Crosstab\n",
    "\n",
    "* `pivot_table()`: Creates a spreadsheet-style pivot table as a DataFrame. It's a powerful tool for reshaping and summarizing data.\n",
    "* `crosstab()`: Computes a simple cross-tabulation of two (or more) factors. By default, it computes a frequency table of the factors unless an array of values and an aggregation function are passed."
   ]
  },
  {
   "cell_type": "code",
   "execution_count": 81,
   "metadata": {},
   "outputs": [
    {
     "name": "stdout",
     "output_type": "stream",
     "text": [
      "Original DataFrame for pivot/crosstab:\n"
     ]
    },
    {
     "data": {
      "text/html": [
       "<div>\n",
       "<style scoped>\n",
       "    .dataframe tbody tr th:only-of-type {\n",
       "        vertical-align: middle;\n",
       "    }\n",
       "\n",
       "    .dataframe tbody tr th {\n",
       "        vertical-align: top;\n",
       "    }\n",
       "\n",
       "    .dataframe thead th {\n",
       "        text-align: right;\n",
       "    }\n",
       "</style>\n",
       "<table border=\"1\" class=\"dataframe\">\n",
       "  <thead>\n",
       "    <tr style=\"text-align: right;\">\n",
       "      <th></th>\n",
       "      <th>Date</th>\n",
       "      <th>Region</th>\n",
       "      <th>Product</th>\n",
       "      <th>Sales</th>\n",
       "      <th>Quantity</th>\n",
       "    </tr>\n",
       "  </thead>\n",
       "  <tbody>\n",
       "    <tr>\n",
       "      <th>0</th>\n",
       "      <td>2024-01-01</td>\n",
       "      <td>North</td>\n",
       "      <td>Laptop</td>\n",
       "      <td>100</td>\n",
       "      <td>10</td>\n",
       "    </tr>\n",
       "    <tr>\n",
       "      <th>1</th>\n",
       "      <td>2024-01-01</td>\n",
       "      <td>South</td>\n",
       "      <td>iPhone</td>\n",
       "      <td>150</td>\n",
       "      <td>12</td>\n",
       "    </tr>\n",
       "    <tr>\n",
       "      <th>2</th>\n",
       "      <td>2024-01-02</td>\n",
       "      <td>North</td>\n",
       "      <td>Macbook</td>\n",
       "      <td>200</td>\n",
       "      <td>15</td>\n",
       "    </tr>\n",
       "    <tr>\n",
       "      <th>3</th>\n",
       "      <td>2024-01-02</td>\n",
       "      <td>South</td>\n",
       "      <td>Tablet</td>\n",
       "      <td>120</td>\n",
       "      <td>8</td>\n",
       "    </tr>\n",
       "    <tr>\n",
       "      <th>4</th>\n",
       "      <td>2024-01-01</td>\n",
       "      <td>North</td>\n",
       "      <td>iPads</td>\n",
       "      <td>180</td>\n",
       "      <td>14</td>\n",
       "    </tr>\n",
       "    <tr>\n",
       "      <th>5</th>\n",
       "      <td>2024-01-02</td>\n",
       "      <td>South</td>\n",
       "      <td>Headset</td>\n",
       "      <td>220</td>\n",
       "      <td>16</td>\n",
       "    </tr>\n",
       "    <tr>\n",
       "      <th>6</th>\n",
       "      <td>2024-01-03</td>\n",
       "      <td>North</td>\n",
       "      <td>Airpods</td>\n",
       "      <td>90</td>\n",
       "      <td>7</td>\n",
       "    </tr>\n",
       "  </tbody>\n",
       "</table>\n",
       "</div>"
      ],
      "text/plain": [
       "        Date Region  Product  Sales  Quantity\n",
       "0 2024-01-01  North   Laptop    100        10\n",
       "1 2024-01-01  South   iPhone    150        12\n",
       "2 2024-01-02  North  Macbook    200        15\n",
       "3 2024-01-02  South   Tablet    120         8\n",
       "4 2024-01-01  North    iPads    180        14\n",
       "5 2024-01-02  South  Headset    220        16\n",
       "6 2024-01-03  North  Airpods     90         7"
      ]
     },
     "execution_count": 81,
     "metadata": {},
     "output_type": "execute_result"
    }
   ],
   "source": [
    "data_pivot_raw = {'Date': pd.to_datetime(['2024-01-01', '2024-01-01', '2024-01-02', '2024-01-02', '2024-01-01', '2024-01-02', '2024-01-03']),\n",
    "                  'Region': ['North', 'South', 'North', 'South', 'North', 'South', 'North'],\n",
    "                  'Product': ['Laptop', 'iPhone', 'Macbook', 'Tablet', 'iPads', 'Headset', 'Airpods'],\n",
    "                  'Sales': [100, 150, 200, 120, 180, 220, 90],\n",
    "                  'Quantity': [10, 12, 15, 8, 14, 16, 7]}\n",
    "df_pivot_data = pd.DataFrame(data_pivot_raw)\n",
    "print(\"Original DataFrame for pivot/crosstab:\")\n",
    "df_pivot_data\n"
   ]
  },
  {
   "cell_type": "code",
   "execution_count": 80,
   "id": "c32aa22d",
   "metadata": {},
   "outputs": [],
   "source": [
    "# Learn it Yourself and lets have discussion at the next day "
   ]
  },
  {
   "cell_type": "code",
   "execution_count": null,
   "id": "633d47cd",
   "metadata": {},
   "outputs": [],
   "source": []
  },
  {
   "cell_type": "code",
   "execution_count": 76,
   "id": "92ff3868",
   "metadata": {},
   "outputs": [
    {
     "name": "stdout",
     "output_type": "stream",
     "text": [
      "Pivot table: Total Sales by Product and Region\n"
     ]
    },
    {
     "data": {
      "text/html": [
       "<div>\n",
       "<style scoped>\n",
       "    .dataframe tbody tr th:only-of-type {\n",
       "        vertical-align: middle;\n",
       "    }\n",
       "\n",
       "    .dataframe tbody tr th {\n",
       "        vertical-align: top;\n",
       "    }\n",
       "\n",
       "    .dataframe thead th {\n",
       "        text-align: right;\n",
       "    }\n",
       "</style>\n",
       "<table border=\"1\" class=\"dataframe\">\n",
       "  <thead>\n",
       "    <tr style=\"text-align: right;\">\n",
       "      <th>Region</th>\n",
       "      <th>North</th>\n",
       "      <th>South</th>\n",
       "    </tr>\n",
       "    <tr>\n",
       "      <th>Product</th>\n",
       "      <th></th>\n",
       "      <th></th>\n",
       "    </tr>\n",
       "  </thead>\n",
       "  <tbody>\n",
       "    <tr>\n",
       "      <th>Airpods</th>\n",
       "      <td>90</td>\n",
       "      <td>0</td>\n",
       "    </tr>\n",
       "    <tr>\n",
       "      <th>Headset</th>\n",
       "      <td>0</td>\n",
       "      <td>220</td>\n",
       "    </tr>\n",
       "    <tr>\n",
       "      <th>Laptop</th>\n",
       "      <td>100</td>\n",
       "      <td>0</td>\n",
       "    </tr>\n",
       "    <tr>\n",
       "      <th>Macbook</th>\n",
       "      <td>200</td>\n",
       "      <td>0</td>\n",
       "    </tr>\n",
       "    <tr>\n",
       "      <th>Tablet</th>\n",
       "      <td>0</td>\n",
       "      <td>120</td>\n",
       "    </tr>\n",
       "    <tr>\n",
       "      <th>iPads</th>\n",
       "      <td>180</td>\n",
       "      <td>0</td>\n",
       "    </tr>\n",
       "    <tr>\n",
       "      <th>iPhone</th>\n",
       "      <td>0</td>\n",
       "      <td>150</td>\n",
       "    </tr>\n",
       "  </tbody>\n",
       "</table>\n",
       "</div>"
      ],
      "text/plain": [
       "Region   North  South\n",
       "Product              \n",
       "Airpods     90      0\n",
       "Headset      0    220\n",
       "Laptop     100      0\n",
       "Macbook    200      0\n",
       "Tablet       0    120\n",
       "iPads      180      0\n",
       "iPhone       0    150"
      ]
     },
     "execution_count": 76,
     "metadata": {},
     "output_type": "execute_result"
    }
   ],
   "source": [
    "\n",
    "# --- pivot_table() ---\n",
    "# Example 1: Total 'Sales' for each 'Product' (rows) across different 'Region' (columns).\n",
    "pivot_sales_by_product_region = pd.pivot_table(df_pivot_data, \n",
    "                                               values='Sales',      # Values to aggregate\n",
    "                                               index='Product',     # Rows of the pivot table\n",
    "                                               columns='Region',    # Columns of the pivot table\n",
    "                                               aggfunc=\"sum\",      # Aggregation function (default is mean)\n",
    "                                               fill_value=0)      # Value to replace missing combinations\n",
    "print(\"Pivot table: Total Sales by Product and Region\")\n",
    "pivot_sales_by_product_region"
   ]
  },
  {
   "cell_type": "code",
   "execution_count": 79,
   "id": "edbbefbe",
   "metadata": {},
   "outputs": [
    {
     "name": "stdout",
     "output_type": "stream",
     "text": [
      "Pivot table: Avg Sales & Sum Quantity by Date and Product\n"
     ]
    },
    {
     "data": {
      "text/html": [
       "<div>\n",
       "<style scoped>\n",
       "    .dataframe tbody tr th:only-of-type {\n",
       "        vertical-align: middle;\n",
       "    }\n",
       "\n",
       "    .dataframe tbody tr th {\n",
       "        vertical-align: top;\n",
       "    }\n",
       "\n",
       "    .dataframe thead tr th {\n",
       "        text-align: left;\n",
       "    }\n",
       "\n",
       "    .dataframe thead tr:last-of-type th {\n",
       "        text-align: right;\n",
       "    }\n",
       "</style>\n",
       "<table border=\"1\" class=\"dataframe\">\n",
       "  <thead>\n",
       "    <tr>\n",
       "      <th></th>\n",
       "      <th colspan=\"7\" halign=\"left\">Quantity</th>\n",
       "      <th colspan=\"7\" halign=\"left\">Sales</th>\n",
       "    </tr>\n",
       "    <tr>\n",
       "      <th>Product</th>\n",
       "      <th>Airpods</th>\n",
       "      <th>Headset</th>\n",
       "      <th>Laptop</th>\n",
       "      <th>Macbook</th>\n",
       "      <th>Tablet</th>\n",
       "      <th>iPads</th>\n",
       "      <th>iPhone</th>\n",
       "      <th>Airpods</th>\n",
       "      <th>Headset</th>\n",
       "      <th>Laptop</th>\n",
       "      <th>Macbook</th>\n",
       "      <th>Tablet</th>\n",
       "      <th>iPads</th>\n",
       "      <th>iPhone</th>\n",
       "    </tr>\n",
       "    <tr>\n",
       "      <th>Date</th>\n",
       "      <th></th>\n",
       "      <th></th>\n",
       "      <th></th>\n",
       "      <th></th>\n",
       "      <th></th>\n",
       "      <th></th>\n",
       "      <th></th>\n",
       "      <th></th>\n",
       "      <th></th>\n",
       "      <th></th>\n",
       "      <th></th>\n",
       "      <th></th>\n",
       "      <th></th>\n",
       "      <th></th>\n",
       "    </tr>\n",
       "  </thead>\n",
       "  <tbody>\n",
       "    <tr>\n",
       "      <th>2024-01-01</th>\n",
       "      <td>0</td>\n",
       "      <td>0</td>\n",
       "      <td>10</td>\n",
       "      <td>0</td>\n",
       "      <td>0</td>\n",
       "      <td>14</td>\n",
       "      <td>12</td>\n",
       "      <td>0.0</td>\n",
       "      <td>0.0</td>\n",
       "      <td>100.0</td>\n",
       "      <td>0.0</td>\n",
       "      <td>0.0</td>\n",
       "      <td>180.0</td>\n",
       "      <td>150.0</td>\n",
       "    </tr>\n",
       "    <tr>\n",
       "      <th>2024-01-02</th>\n",
       "      <td>0</td>\n",
       "      <td>16</td>\n",
       "      <td>0</td>\n",
       "      <td>15</td>\n",
       "      <td>8</td>\n",
       "      <td>0</td>\n",
       "      <td>0</td>\n",
       "      <td>0.0</td>\n",
       "      <td>220.0</td>\n",
       "      <td>0.0</td>\n",
       "      <td>200.0</td>\n",
       "      <td>120.0</td>\n",
       "      <td>0.0</td>\n",
       "      <td>0.0</td>\n",
       "    </tr>\n",
       "    <tr>\n",
       "      <th>2024-01-03</th>\n",
       "      <td>7</td>\n",
       "      <td>0</td>\n",
       "      <td>0</td>\n",
       "      <td>0</td>\n",
       "      <td>0</td>\n",
       "      <td>0</td>\n",
       "      <td>0</td>\n",
       "      <td>90.0</td>\n",
       "      <td>0.0</td>\n",
       "      <td>0.0</td>\n",
       "      <td>0.0</td>\n",
       "      <td>0.0</td>\n",
       "      <td>0.0</td>\n",
       "      <td>0.0</td>\n",
       "    </tr>\n",
       "  </tbody>\n",
       "</table>\n",
       "</div>"
      ],
      "text/plain": [
       "           Quantity                                              Sales  \\\n",
       "Product     Airpods Headset Laptop Macbook Tablet iPads iPhone Airpods   \n",
       "Date                                                                     \n",
       "2024-01-01        0       0     10       0      0    14     12     0.0   \n",
       "2024-01-02        0      16      0      15      8     0      0     0.0   \n",
       "2024-01-03        7       0      0       0      0     0      0    90.0   \n",
       "\n",
       "                                                        \n",
       "Product    Headset Laptop Macbook Tablet  iPads iPhone  \n",
       "Date                                                    \n",
       "2024-01-01     0.0  100.0     0.0    0.0  180.0  150.0  \n",
       "2024-01-02   220.0    0.0   200.0  120.0    0.0    0.0  \n",
       "2024-01-03     0.0    0.0     0.0    0.0    0.0    0.0  "
      ]
     },
     "execution_count": 79,
     "metadata": {},
     "output_type": "execute_result"
    }
   ],
   "source": [
    "\n",
    "# Example 2: Average 'Sales' and 'Quantity' by 'Date' (rows) and 'Product' (columns)\n",
    "pivot_avg_sales_qty = pd.pivot_table(df_pivot_data,\n",
    "                                     values=['Sales', 'Quantity'],\n",
    "                                     index='Date',\n",
    "                                     columns='Product',\n",
    "                                     aggfunc={'Sales': \"mean\", 'Quantity': \"sum\"},\n",
    "                                     fill_value=0)\n",
    "print(\"Pivot table: Avg Sales & Sum Quantity by Date and Product\")\n",
    "pivot_avg_sales_qty\n"
   ]
  },
  {
   "cell_type": "code",
   "execution_count": 82,
   "id": "2c60e0a5",
   "metadata": {},
   "outputs": [
    {
     "name": "stdout",
     "output_type": "stream",
     "text": [
      "Crosstab: Frequency of Product by Region\n"
     ]
    },
    {
     "data": {
      "text/html": [
       "<div>\n",
       "<style scoped>\n",
       "    .dataframe tbody tr th:only-of-type {\n",
       "        vertical-align: middle;\n",
       "    }\n",
       "\n",
       "    .dataframe tbody tr th {\n",
       "        vertical-align: top;\n",
       "    }\n",
       "\n",
       "    .dataframe thead th {\n",
       "        text-align: right;\n",
       "    }\n",
       "</style>\n",
       "<table border=\"1\" class=\"dataframe\">\n",
       "  <thead>\n",
       "    <tr style=\"text-align: right;\">\n",
       "      <th>Product</th>\n",
       "      <th>Airpods</th>\n",
       "      <th>Headset</th>\n",
       "      <th>Laptop</th>\n",
       "      <th>Macbook</th>\n",
       "      <th>Tablet</th>\n",
       "      <th>iPads</th>\n",
       "      <th>iPhone</th>\n",
       "    </tr>\n",
       "    <tr>\n",
       "      <th>Region</th>\n",
       "      <th></th>\n",
       "      <th></th>\n",
       "      <th></th>\n",
       "      <th></th>\n",
       "      <th></th>\n",
       "      <th></th>\n",
       "      <th></th>\n",
       "    </tr>\n",
       "  </thead>\n",
       "  <tbody>\n",
       "    <tr>\n",
       "      <th>North</th>\n",
       "      <td>1</td>\n",
       "      <td>0</td>\n",
       "      <td>1</td>\n",
       "      <td>1</td>\n",
       "      <td>0</td>\n",
       "      <td>1</td>\n",
       "      <td>0</td>\n",
       "    </tr>\n",
       "    <tr>\n",
       "      <th>South</th>\n",
       "      <td>0</td>\n",
       "      <td>1</td>\n",
       "      <td>0</td>\n",
       "      <td>0</td>\n",
       "      <td>1</td>\n",
       "      <td>0</td>\n",
       "      <td>1</td>\n",
       "    </tr>\n",
       "  </tbody>\n",
       "</table>\n",
       "</div>"
      ],
      "text/plain": [
       "Product  Airpods  Headset  Laptop  Macbook  Tablet  iPads  iPhone\n",
       "Region                                                           \n",
       "North          1        0       1        1       0      1       0\n",
       "South          0        1       0        0       1      0       1"
      ]
     },
     "execution_count": 82,
     "metadata": {},
     "output_type": "execute_result"
    }
   ],
   "source": [
    "\n",
    "# --- crosstab() ---\n",
    "# Example 1: Frequency of 'Product' occurrences within each 'Region'.\n",
    "crosstab_product_region_freq = pd.crosstab(index=df_pivot_data['Region'], \n",
    "                                           columns=df_pivot_data['Product'])\n",
    "print(\"Crosstab: Frequency of Product by Region\")\n",
    "crosstab_product_region_freq"
   ]
  },
  {
   "cell_type": "code",
   "execution_count": 83,
   "id": "ba3e0742",
   "metadata": {},
   "outputs": [
    {
     "name": "stdout",
     "output_type": "stream",
     "text": [
      "Crosstab: Sum of Sales by Product and Region\n"
     ]
    },
    {
     "data": {
      "text/html": [
       "<div>\n",
       "<style scoped>\n",
       "    .dataframe tbody tr th:only-of-type {\n",
       "        vertical-align: middle;\n",
       "    }\n",
       "\n",
       "    .dataframe tbody tr th {\n",
       "        vertical-align: top;\n",
       "    }\n",
       "\n",
       "    .dataframe thead th {\n",
       "        text-align: right;\n",
       "    }\n",
       "</style>\n",
       "<table border=\"1\" class=\"dataframe\">\n",
       "  <thead>\n",
       "    <tr style=\"text-align: right;\">\n",
       "      <th>Product</th>\n",
       "      <th>Airpods</th>\n",
       "      <th>Headset</th>\n",
       "      <th>Laptop</th>\n",
       "      <th>Macbook</th>\n",
       "      <th>Tablet</th>\n",
       "      <th>iPads</th>\n",
       "      <th>iPhone</th>\n",
       "    </tr>\n",
       "    <tr>\n",
       "      <th>Region</th>\n",
       "      <th></th>\n",
       "      <th></th>\n",
       "      <th></th>\n",
       "      <th></th>\n",
       "      <th></th>\n",
       "      <th></th>\n",
       "      <th></th>\n",
       "    </tr>\n",
       "  </thead>\n",
       "  <tbody>\n",
       "    <tr>\n",
       "      <th>North</th>\n",
       "      <td>90.0</td>\n",
       "      <td>NaN</td>\n",
       "      <td>100.0</td>\n",
       "      <td>200.0</td>\n",
       "      <td>NaN</td>\n",
       "      <td>180.0</td>\n",
       "      <td>NaN</td>\n",
       "    </tr>\n",
       "    <tr>\n",
       "      <th>South</th>\n",
       "      <td>NaN</td>\n",
       "      <td>220.0</td>\n",
       "      <td>NaN</td>\n",
       "      <td>NaN</td>\n",
       "      <td>120.0</td>\n",
       "      <td>NaN</td>\n",
       "      <td>150.0</td>\n",
       "    </tr>\n",
       "  </tbody>\n",
       "</table>\n",
       "</div>"
      ],
      "text/plain": [
       "Product  Airpods  Headset  Laptop  Macbook  Tablet  iPads  iPhone\n",
       "Region                                                           \n",
       "North       90.0      NaN   100.0    200.0     NaN  180.0     NaN\n",
       "South        NaN    220.0     NaN      NaN   120.0    NaN   150.0"
      ]
     },
     "execution_count": 83,
     "metadata": {},
     "output_type": "execute_result"
    }
   ],
   "source": [
    "\n",
    "# Example 2: Sum of 'Sales' for 'Product' vs 'Region'.\n",
    "crosstab_sales_by_product_region = pd.crosstab(index=df_pivot_data['Region'], \n",
    "                                               columns=df_pivot_data['Product'], \n",
    "                                               values=df_pivot_data['Sales'], \n",
    "                                               aggfunc='sum')\n",
    "print(\"Crosstab: Sum of Sales by Product and Region\")\n",
    "crosstab_sales_by_product_region\n"
   ]
  },
  {
   "cell_type": "code",
   "execution_count": null,
   "id": "bdc5e2f2",
   "metadata": {},
   "outputs": [],
   "source": [
    "\n",
    "# Example 3: Crosstab with normalized values (proportions)\n",
    "crosstab_product_region_norm = pd.crosstab(index=df_pivot_data['Region'], \n",
    "                                           columns=df_pivot_data['Product'],\n",
    "                                           normalize=True) # normalize='index', 'columns', or 'all' (True is 'all')\n",
    "print(\"Crosstab: Normalized Frequency (Proportions) of Product by Region\")\n",
    "print(crosstab_product_region_norm)"
   ]
  },
  {
   "cell_type": "markdown",
   "id": "1a0436e8",
   "metadata": {},
   "source": [
    "# SO what is the difference between the pivot table and the cross tab \n",
    "Go through the following link to get a good idea. \n",
    "\n",
    "https://stackoverflow.com/questions/36267745/how-is-a-pandas-crosstab-different-from-a-pandas-pivot-table"
   ]
  },
  {
   "cell_type": "code",
   "execution_count": null,
   "id": "6d9860fb",
   "metadata": {},
   "outputs": [],
   "source": []
  },
  {
   "cell_type": "markdown",
   "metadata": {},
   "source": [
    "### ✏️ Try it Yourself! - Section 13\n",
    "\n",
    "Using `df_pivot_data`:\n",
    "1.  Create a pivot table showing the average 'Quantity' for each 'Product' (as index) and 'Region' (as columns). Fill missing values with 0.\n",
    "2.  Create a pivot table that shows the maximum 'Sales' for each 'Date' (as index), with 'Product' as columns and 'Region' as a secondary index level (multi-index rows).\n",
    "3.  Create a crosstab showing the count (frequency) of 'Product' for each 'Date'.\n",
    "4.  Create a crosstab showing the average 'Sales' for each combination of 'Region' (index) and 'Product' (columns). Add margins (subtotals) to this crosstab. (Hint: `margins=True` in `pd.crosstab()`)."
   ]
  },
  {
   "cell_type": "markdown",
   "metadata": {},
   "source": [
    "## 14. Exporting Data\n",
    "\n",
    "Pandas DataFrames can be easily exported to various file formats, with CSV and Excel being very common.\n",
    "\n",
    "**Note:** `index=False` is often used to prevent writing the DataFrame's index as a column in the output file, unless the index contains meaningful data you wish to preserve."
   ]
  },
  {
   "cell_type": "code",
   "execution_count": 84,
   "metadata": {},
   "outputs": [],
   "source": [
    "# Create a data read from it, do some manipulation and store the data into the form of the csv. "
   ]
  },
  {
   "cell_type": "markdown",
   "metadata": {},
   "source": [
    "### ✏️ Try it Yourself! - Section 14\n",
    "\n",
    "Using `df_to_export` (or any other DataFrame you've created, like `df_pivot_data`):\n",
    "1.  Export `df_to_export` to a Tab Separated Values (TSV) file named `exported_data.tsv`. Remember to specify the separator.\n",
    "2.  Export `df_pivot_data` to an Excel file named `pivot_export.xlsx`, but this time, include the index in the output file.\n",
    "3.  Export only the 'item_name' and 'category' columns from `df_to_export` to a new CSV file named `partial_export.csv`."
   ]
  },
  {
   "cell_type": "markdown",
   "metadata": {},
   "source": [
    "## End of Pandas Learnings Notebook\n",
    "\n",
    "This notebook has provided an overview and practical examples for many fundamental Pandas operations. Consistent practice with diverse datasets is key to mastering these techniques for effective data analysis and manipulation."
   ]
  }
 ],
 "metadata": {
  "kernelspec": {
   "display_name": "mlenv",
   "language": "python",
   "name": "python3"
  },
  "language_info": {
   "codemirror_mode": {
    "name": "ipython",
    "version": 3
   },
   "file_extension": ".py",
   "mimetype": "text/x-python",
   "name": "python",
   "nbconvert_exporter": "python",
   "pygments_lexer": "ipython3",
   "version": "3.10.16"
  }
 },
 "nbformat": 4,
 "nbformat_minor": 5
}
