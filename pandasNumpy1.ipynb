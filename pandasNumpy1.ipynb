{
 "cells": [
  {
   "cell_type": "code",
   "execution_count": 2,
   "metadata": {},
   "outputs": [
    {
     "name": "stdout",
     "output_type": "stream",
     "text": [
      "hello world\n",
      "this is it!!\n"
     ]
    }
   ],
   "source": [
    "print(\"hello world\")\n",
    "\n",
    "print(\"this is it!!\")"
   ]
  },
  {
   "cell_type": "code",
   "execution_count": 1,
   "metadata": {},
   "outputs": [
    {
     "name": "stdout",
     "output_type": "stream",
     "text": [
      "1\n",
      "2\n",
      "3\n",
      "4\n"
     ]
    }
   ],
   "source": [
    "l = [1,2,3,4]\n",
    "for  i in l:\n",
    "    print(i)"
   ]
  },
  {
   "cell_type": "code",
   "execution_count": 1,
   "metadata": {},
   "outputs": [
    {
     "data": {
      "text/html": [
       "<div>\n",
       "<style scoped>\n",
       "    .dataframe tbody tr th:only-of-type {\n",
       "        vertical-align: middle;\n",
       "    }\n",
       "\n",
       "    .dataframe tbody tr th {\n",
       "        vertical-align: top;\n",
       "    }\n",
       "\n",
       "    .dataframe thead th {\n",
       "        text-align: right;\n",
       "    }\n",
       "</style>\n",
       "<table border=\"1\" class=\"dataframe\">\n",
       "  <thead>\n",
       "    <tr style=\"text-align: right;\">\n",
       "      <th></th>\n",
       "      <th>name</th>\n",
       "      <th>age</th>\n",
       "      <th>address</th>\n",
       "    </tr>\n",
       "  </thead>\n",
       "  <tbody>\n",
       "    <tr>\n",
       "      <th>0</th>\n",
       "      <td>kriti</td>\n",
       "      <td>20</td>\n",
       "      <td>ktm</td>\n",
       "    </tr>\n",
       "    <tr>\n",
       "      <th>1</th>\n",
       "      <td>beth</td>\n",
       "      <td>30</td>\n",
       "      <td>pkr</td>\n",
       "    </tr>\n",
       "    <tr>\n",
       "      <th>2</th>\n",
       "      <td>siya</td>\n",
       "      <td>10</td>\n",
       "      <td>bkt</td>\n",
       "    </tr>\n",
       "  </tbody>\n",
       "</table>\n",
       "</div>"
      ],
      "text/plain": [
       "    name  age  address\n",
       "0  kriti   20      ktm\n",
       "1   beth   30      pkr\n",
       "2   siya   10      bkt"
      ]
     },
     "execution_count": 1,
     "metadata": {},
     "output_type": "execute_result"
    }
   ],
   "source": [
    "import pandas as pd\n",
    "list1 = [['kriti', 20, 'ktm'],['beth', 30, 'pkr'], ['siya', 10, 'bkt']]\n",
    "pd.DataFrame(list1 , columns = ['name', 'age', ' address'])"
   ]
  },
  {
   "cell_type": "code",
   "execution_count": null,
   "metadata": {},
   "outputs": [
    {
     "data": {
      "text/plain": [
       "humidity       16.000000\n",
       "temperature    26.666667\n",
       "wind           25.000000\n",
       "dtype: float64"
      ]
     },
     "execution_count": 5,
     "metadata": {},
     "output_type": "execute_result"
    }
   ],
   "source": [
    "list2 = [[10,21,40], [22,24,22], [16,35,13]]\n",
    "data1 = pd.DataFrame(list2, columns = ['humidity', 'temperature', 'wind'] )\n",
    "avgg = data1.mean()\n",
    "avgg"
   ]
  },
  {
   "cell_type": "code",
   "execution_count": null,
   "metadata": {},
   "outputs": [
    {
     "name": "stdout",
     "output_type": "stream",
     "text": [
      "unsigned c :  [4294967293 4294967293 4294967293] uint32\n",
      "signed c :  [-3 -3 -3] int64\n"
     ]
    }
   ],
   "source": [
    "# numpy\n",
    "import numpy as np\n",
    "a = np.array([2,3,4], dtype = np.uint32)             # unsigned integer 32 bit\n",
    "b = np.array([5,6,7], dtype = np.uint32)\n",
    "c_unsigned32 = a-b\n",
    "print('unsigned c : ', c_unsigned32, c_unsigned32.dtype)\n",
    "c_unsigned32 = a-b.astype(np.int32)\n",
    "print('signed c : ', c_unsigned32, c_unsigned32.dtype)"
   ]
  },
  {
   "cell_type": "code",
   "execution_count": 4,
   "metadata": {},
   "outputs": [
    {
     "data": {
      "text/plain": [
       "array([127, 128, 129], dtype=int16)"
      ]
     },
     "execution_count": 4,
     "metadata": {},
     "output_type": "execute_result"
    }
   ],
   "source": [
    "np.array([127, 128, 129], dtype = np.int16)"
   ]
  },
  {
   "cell_type": "code",
   "execution_count": 6,
   "metadata": {},
   "outputs": [
    {
     "name": "stdout",
     "output_type": "stream",
     "text": [
      "[10 12 14 16 18]\n",
      "uint32\n",
      "[0.         0.00242424 0.00484848 0.00727273 0.00969697 0.01212121\n",
      " 0.01454545 0.0169697  0.01939394 0.02181818 0.02424242 0.02666667\n",
      " 0.02909091 0.03151515 0.0339394  0.03636364 0.03878788 0.04121212\n",
      " 0.04363636 0.04606061 0.04848485 0.05090909 0.05333333 0.05575757\n",
      " 0.05818182 0.06060606 0.0630303  0.06545454 0.06787879 0.07030303\n",
      " 0.07272727 0.07515152 0.07757576 0.08       0.08242425 0.08484849\n",
      " 0.08727273 0.08969697 0.09212121 0.09454545 0.09696969 0.09939394\n",
      " 0.10181818 0.10424242 0.10666667 0.10909091 0.11151515 0.1139394\n",
      " 0.11636364 0.11878788 0.12121212 0.12363636 0.1260606  0.12848485\n",
      " 0.13090909 0.13333334 0.13575758 0.13818182 0.14060606 0.1430303\n",
      " 0.14545454 0.14787878 0.15030304 0.15272728 0.15515152 0.15757576\n",
      " 0.16       0.16242424 0.16484849 0.16727273 0.16969697 0.17212121\n",
      " 0.17454545 0.17696969 0.17939393 0.18181819 0.18424243 0.18666667\n",
      " 0.18909091 0.19151515 0.19393939 0.19636364 0.19878788 0.20121212\n",
      " 0.20363636 0.2060606  0.20848484 0.21090908 0.21333334 0.21575758\n",
      " 0.21818182 0.22060606 0.2230303  0.22545454 0.2278788  0.23030303\n",
      " 0.23272727 0.23515151 0.23757575 0.24      ]\n",
      "float32\n"
     ]
    }
   ],
   "source": [
    "arr = np.arange(10, 20, 2, dtype = np.uint32)\n",
    "print(arr)\n",
    "print(arr.dtype)\n",
    "arr_floats = np.linspace(0,0.24,100, dtype = np.float32)\n",
    "print(arr_floats)\n",
    "print(arr_floats.dtype)"
   ]
  },
  {
   "cell_type": "code",
   "execution_count": 18,
   "metadata": {},
   "outputs": [
    {
     "name": "stdout",
     "output_type": "stream",
     "text": [
      "0\n",
      "0\n",
      "[[ 0 11  5  9]\n",
      " [ 9  4  0  6]\n",
      " [11 13 10  3]\n",
      " [ 2 14 15  6]]\n",
      "11\n",
      "[ 0 11  5  9]\n",
      "[11  4 13 14]\n",
      "[[ 4  0  6]\n",
      " [13 10  3]]\n"
     ]
    }
   ],
   "source": [
    "arr_random = np.random.randint(0,16,(4,4))\n",
    "arr_random\n",
    "print(arr_random[0][0])              # access first element of array 0\n",
    "print(arr_random[0,0])               # alternate of above\n",
    "print(arr_random[:,:])               # access all element\n",
    "print(arr_random[0,1])               # access second element of array\n",
    "print(arr_random[0, :])              # access first row\n",
    "print(arr_random[:, 1])              # access second column\n",
    "print(arr_random[1:3 , 1:4])         # access subarray"
   ]
  },
  {
   "cell_type": "code",
   "execution_count": 26,
   "metadata": {},
   "outputs": [
    {
     "name": "stdout",
     "output_type": "stream",
     "text": [
      "Original Array: [[45 48 65 68 68]\n",
      " [10 84 22 37 88]\n",
      " [71 89 89 13 59]\n",
      " [66 40 88 47 89]\n",
      " [82 38 26 78 73]]\n",
      "Boolean indexed arr [65 68 68 84 88 71 89 89 59 66 88 89 82 78 73]\n",
      "(array([0, 0, 0, 1, 1, 2, 2, 2, 2, 3, 3, 3, 4, 4, 4]), array([2, 3, 4, 1, 4, 0, 1, 2, 4, 0, 2, 4, 0, 3, 4]))\n"
     ]
    }
   ],
   "source": [
    "np.random.seed(0)\n",
    "arr = np.random.randint(1, 100, size = (5,5))\n",
    "print('Original Array:', arr )\n",
    "print('Boolean indexed arr', arr[arr >50 ])\n",
    "# print(arr>50)\n",
    "print(np.where(arr>50 ))"
   ]
  },
  {
   "cell_type": "code",
   "execution_count": 27,
   "metadata": {},
   "outputs": [
    {
     "name": "stdout",
     "output_type": "stream",
     "text": [
      "str array:  ['Hello' 'world!']\n",
      "str arraynew:  ['Hell' 'worl']\n"
     ]
    }
   ],
   "source": [
    "arr = ['Hello', 'world!'] \n",
    "np_array = np.array(arr, dtype = '<U6' )\n",
    "print('str array: ', np_array)\n",
    "arr = ['Hello', 'world!'] \n",
    "np_array = np.array(arr, dtype = '<U4')\n",
    "print('str arraynew: ', np_array )\n"
   ]
  },
  {
   "cell_type": "code",
   "execution_count": null,
   "metadata": {},
   "outputs": [],
   "source": [
    "arr_copying = np.array([1,2,3] , [4,5,6 ] )\n",
    "b = arr_copying\n",
    "b[2] = 5                            # here b is view of arr_copying (both value change if one change)\n",
    "print(b)\n",
    "b = np.copy(a)                      # copy the content of arr_copying to b. view pblm solved"
   ]
  }
 ],
 "metadata": {
  "kernelspec": {
   "display_name": "mlenv",
   "language": "python",
   "name": "python3"
  },
  "language_info": {
   "codemirror_mode": {
    "name": "ipython",
    "version": 3
   },
   "file_extension": ".py",
   "mimetype": "text/x-python",
   "name": "python",
   "nbconvert_exporter": "python",
   "pygments_lexer": "ipython3",
   "version": "3.10.16"
  }
 },
 "nbformat": 4,
 "nbformat_minor": 2
}
